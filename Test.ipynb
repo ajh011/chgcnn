{
 "cells": [
  {
   "cell_type": "code",
   "execution_count": 1,
   "id": "73b77895",
   "metadata": {},
   "outputs": [],
   "source": [
    "from pymatgen.io.cif import CifWriter, CifParser\n",
    "from pymatgen.core.structure import Structure\n",
    "from torch_geometric.data import Data\n",
    "import torch\n",
    "import numpy as np"
   ]
  },
  {
   "cell_type": "code",
   "execution_count": 19,
   "id": "36860f7b",
   "metadata": {},
   "outputs": [],
   "source": [
    "## CIF -> tuple(tensor([[node_index,connected_node_index],...]), tensor([dist,...])) ##\n",
    "\n",
    "#takes cif file and returns array (2 x num_edges) of edge index\n",
    "#found by collecting neighbors within radius, also adjoins distance\n",
    "#associated with each edge in tuple\n",
    "def cif2graphedges(cif_file, radius:float=3):\n",
    "    struc = CifParser(cif_file).get_structures()[0]\n",
    "    nbr_lst = struc.get_neighbor_list(radius, exclude_self=True)\n",
    "    edge_list=np.stack((nbr_lst[0],nbr_lst[1])).transpose()\n",
    "    edge_list=torch.tensor(edge_list)\n",
    "    edge_list_w_dist = (edge_list,torch.tensor(nbr_lst[3]))\n",
    "    return edge_list_w_dist\n",
    "\n",
    "\n",
    "\n",
    "## CIF -> tuple(tensor([[node_pos], ... ]),tensor([node_atomic_num,...])) ##\n",
    "\n",
    "#takes cif file and returns tuple of a tensor of node positions and a tensor\n",
    "# of node's atomic number, indexed same as cif2graphedges\n",
    "def cif2nodepos(cif_file):\n",
    "    struc = CifParser(cif_file).get_structures()[0]\n",
    "    site_lst = struc.sites\n",
    "    nodepos_lst = []\n",
    "    nodespec_lst = []\n",
    "    for site in site_lst:\n",
    "        nodepos_lst.append(site.coords) #Coordinate of sites\n",
    "        z_site = [element.Z for element in site.species]\n",
    "        nodespec_lst.append(z_site) #Atomic number list of site species (should always be single element list for crystal)\n",
    "    nodepos_arr = np.array(nodepos_lst, dtype=float)\n",
    "    nodespec_arr = np.squeeze(nodespec_lst)\n",
    "    return  (torch.tensor(nodepos_arr),torch.tensor(nodespec_arr))\n"
   ]
  },
  {
   "cell_type": "code",
   "execution_count": 35,
   "id": "63a6816d",
   "metadata": {},
   "outputs": [],
   "source": [
    "\n",
    "## CIF -> tensor([[node_index,...],[hyper_edge_index,...]]) ##\n",
    "\n",
    "# takes cif file and returns array (2 x num_nodes_in_hedges) of hedge index\n",
    "# (as specified in the HypergraphConv doc of PyTorch Geometric)\n",
    "# found by collecting neighbors within spec radius for each node in one hedge\n",
    "def cif2hyperedges(cif_file, radius: float = 3):\n",
    "    struc = CifParser(cif_file).get_structures()[0]\n",
    "    nbr_lst = struc.get_neighbor_list(radius, exclude_self=False)\n",
    "    edge_list = np.stack((nbr_lst[0], nbr_lst[1])).transpose()\n",
    "    edge_list = torch.tensor(edge_list)\n",
    "\n",
    "    tk = edge_list[0][0]\n",
    "    hedge_index = []\n",
    "    node_index = []\n",
    "    for i, j in edge_list:\n",
    "        if i != tk:\n",
    "            hedge_index.append(tk)\n",
    "            node_index.append(tk)\n",
    "            tk = i\n",
    "        node_index.append(j)\n",
    "        hedge_index.append(i)\n",
    "    node_index.append(edge_list[-1][0])\n",
    "    hedge_index.append(edge_list[-1][0])\n",
    "    hedge_list = torch.stack((torch.tensor(node_index), torch.tensor(hedge_index)))\n",
    "    return hedge_list\n",
    "\n",
    "def cif2hgraph(cif, radius:float = 3):\n",
    "    pos = cif2nodepos(cif)[0]\n",
    "    x = cif2nodepos(cif)[1]\n",
    "    hedge_indx = cif2hyperedges(cif, radius)\n",
    "    chgraph = Data(x=x, hyperedge_index=hedge_indx, pos=pos)\n",
    "    return chgraph\n",
    "\n",
    "\n",
    "def hgraph_list_from_dir(directory='cif', root='', atom_vecs = True, radius:float=3.0):\n",
    "    if root == '':\n",
    "        root = os. getcwd()\n",
    "    directory = root+'\\\\'+directory\n",
    "    print(f'Searching {directory} for CIF data to convert to hgraphs')\n",
    "    with open(f'{directory}\\\\id_prop.csv') as id_prop:\n",
    "        id_prop = csv.reader(id_prop)\n",
    "        id_prop_data = [row for row in id_prop]\n",
    "    graph_data_list = []\n",
    "    if atom_vecs:\n",
    "        with open(f'{directory}\\\\atom_init.json') as atom_init:\n",
    "            atom_vecs = json.load(atom_init)\n",
    "            for filename, fileprop in id_prop_data:\n",
    "                try:\n",
    "                    file = directory+'\\\\'+filename+'.cif'\n",
    "                    graph = cif2hgraph(file, radius=radius)\n",
    "                    graph.y = torch.tensor(float(fileprop))\n",
    "                    nodes_z = graph.x.tolist()\n",
    "                    nodes_atom_vec = [atom_vecs[f'{z}'] for z in nodes_z]\n",
    "                    graph.x = torch.tensor(nodes_atom_vec).float()\n",
    "                    graph_data_list.append(graph)\n",
    "                    print(f'Added {filename} to hgraph set')\n",
    "                except:\n",
    "                    print(f'Error with {filename}, confirm existence')\n",
    "    else:\n",
    "        for filename, fileprop in id_prop_data:\n",
    "                try:\n",
    "                    file = directory+'\\\\'+filename+'.cif'\n",
    "                    graph = cif2hgraph(file, radius=radius)\n",
    "                    graph.y = torch.tensor(float(fileprop))\n",
    "                    hgraph_data_list.append(graph)\n",
    "                    print(f'Added {filename} to hgraph set')\n",
    "                except:\n",
    "                    print(f'Error with {filename}, confirm existence')\n",
    "    print('Done generating hypergraph data')\n",
    "    return hgraph_data_list"
   ]
  },
  {
   "cell_type": "code",
   "execution_count": 2,
   "id": "10bdaf97",
   "metadata": {},
   "outputs": [
    {
     "name": "stderr",
     "output_type": "stream",
     "text": [
      "C:\\Users\\ajh01\\anaconda3\\lib\\site-packages\\mp_api\\client.py:138: builtins.UserWarning: Problem loading MPContribs client: [<twisted.python.failure.Failure OpenSSL.SSL.Error: [('SSL routines', 'tls_process_server_certificate', 'certificate verify failed')]>]\n"
     ]
    },
    {
     "data": {
      "application/vnd.jupyter.widget-view+json": {
       "model_id": "fc9364e42ae6418d923c7b596cb055d5",
       "version_major": 2,
       "version_minor": 0
      },
      "text/plain": [
       "Retrieving MaterialsDoc documents:   0%|          | 0/1 [00:00<?, ?it/s]"
      ]
     },
     "metadata": {},
     "output_type": "display_data"
    }
   ],
   "source": [
    "##DOWNLOAD SILICONE CIF FOR FORWARD TEST\n",
    "from mp_api.client import MPRester\n",
    "with MPRester(api_key=\"TzwPvkaJdQKn2Eish81buwJfgezz3ukz\") as mpr:\n",
    "    data = mpr.materials.get_data_by_id(\"mp-1455\", fields = 'structure')\n",
    "    crys_cif=CifWriter(data.structure, significant_figures=4)\n",
    "    crys_cif.write_file('test_cif.cif')"
   ]
  },
  {
   "cell_type": "code",
   "execution_count": 78,
   "id": "c65016af",
   "metadata": {
    "scrolled": true
   },
   "outputs": [
    {
     "data": {
      "text/plain": [
       "tensor([[ 6, 11,  9,  7, 10,  5,  0,  4, 11,  6, 10,  7,  8,  1,  5,  8,  7, 11,\n",
       "          9,  4,  2, 10,  8,  5,  9,  4,  6,  3,  8,  2,  3,  1,  4,  0,  3,  9,\n",
       "          2,  5,  3, 10,  1,  0,  6, 11,  0,  1,  2,  7,  1,  4,  3,  2,  8,  5,\n",
       "          2,  3,  0,  9,  6,  0,  1,  3, 10,  2,  1,  0,  7, 11],\n",
       "        [ 0,  0,  0,  0,  0,  0,  0,  1,  1,  1,  1,  1,  1,  1,  2,  2,  2,  2,\n",
       "          2,  2,  2,  3,  3,  3,  3,  3,  3,  3,  4,  4,  4,  4,  4,  5,  5,  5,\n",
       "          5,  5,  6,  6,  6,  6,  6,  7,  7,  7,  7,  7,  8,  8,  8,  8,  8,  9,\n",
       "          9,  9,  9,  9, 10, 10, 10, 10, 10, 11, 11, 11, 11, 11]],\n",
       "       dtype=torch.int32)"
      ]
     },
     "execution_count": 78,
     "metadata": {},
     "output_type": "execute_result"
    }
   ],
   "source": [
    "cif2hyperedges('test_cif.cif', radius=20, min_rad = True)"
   ]
  },
  {
   "cell_type": "code",
   "execution_count": 63,
   "id": "740a5bba",
   "metadata": {},
   "outputs": [
    {
     "data": {
      "text/plain": [
       "tensor([[ 6, 11,  9,  5,  7, 10,  0,  4, 11,  6, 10,  7,  8,  1,  5,  8,  7, 11,\n",
       "          4,  9,  2, 10,  8,  5,  9,  4,  6,  3,  8,  2,  3,  1,  4,  0,  3,  2,\n",
       "          9,  5,  1,  3,  0, 10,  6, 11,  0,  1,  2,  7,  1,  2,  3,  4,  8,  5,\n",
       "          2,  0,  3,  9,  0,  1,  6,  3, 10,  2,  1,  0,  7, 11],\n",
       "        [ 0,  0,  0,  0,  0,  0,  0,  1,  1,  1,  1,  1,  1,  1,  2,  2,  2,  2,\n",
       "          2,  2,  2,  3,  3,  3,  3,  3,  3,  3,  4,  4,  4,  4,  4,  5,  5,  5,\n",
       "          5,  5,  6,  6,  6,  6,  6,  7,  7,  7,  7,  7,  8,  8,  8,  8,  8,  9,\n",
       "          9,  9,  9,  9, 10, 10, 10, 10, 10, 11, 11, 11, 11, 11]],\n",
       "       dtype=torch.int32)"
      ]
     },
     "execution_count": 63,
     "metadata": {},
     "output_type": "execute_result"
    }
   ],
   "source": [
    "cif2hyperedges('test_cif.cif')"
   ]
  },
  {
   "cell_type": "code",
   "execution_count": 27,
   "id": "f2e557a5",
   "metadata": {},
   "outputs": [
    {
     "name": "stdout",
     "output_type": "stream",
     "text": [
      "(array([], dtype=int32), array([], dtype=int32), array([], shape=(0, 3), dtype=float64), array([], dtype=float64))\n"
     ]
    }
   ],
   "source": [
    "struc = CifParser('test_cif.cif').get_structures()[0]\n",
    "radii_list = struc.get_neighbor_list(r = 25, exclude_self=False)[3]\n",
    "min_rad = np.min(radii_list)\n",
    "tolerance = 0.05\n",
    "print(struc.get_neighbor_list(r = min_rad + tolerance))"
   ]
  },
  {
   "cell_type": "code",
   "execution_count": 35,
   "id": "3833e585",
   "metadata": {},
   "outputs": [
    {
     "name": "stdout",
     "output_type": "stream",
     "text": [
      "[ 0  0  0  0  0  0  1  1  1  1  1  1  2  2  2  2  2  2  3  3  3  3  3  3\n",
      "  4  4  4  4  5  5  5  5  6  6  6  6  7  7  7  7  8  8  8  8  9  9  9  9\n",
      " 10 10 10 10 11 11 11 11]\n",
      "[ 6 11  9  5  7 10  4 11  6 10  7  8  5  8  7 11  4  9 10  8  5  9  4  6\n",
      "  8  2  3  1  0  3  2  9  1  3  0 10 11  0  1  2  1  2  3  4  5  2  0  3\n",
      "  0  1  6  3  2  1  0  7]\n"
     ]
    }
   ],
   "source": [
    "struc = CifParser('test_cif.cif').get_structures()[0]\n",
    "neigh_list = struc.get_neighbor_list(r = 3, exclude_self=True)\n",
    "print(neigh_list[0])\n",
    "print(neigh_list[1])"
   ]
  },
  {
   "cell_type": "code",
   "execution_count": 62,
   "id": "627ef208",
   "metadata": {},
   "outputs": [],
   "source": [
    "###\n",
    "\n",
    "def cif2hyperedges(cif_file, radius: float = 3, min_rad = False, tolerance = 0.1):\n",
    "    struc = CifParser(cif_file).get_structures()[0]\n",
    "    ##Determines minimum radius and returns neighbor list for within min radius + tolerance\n",
    "    if min_rad == True:\n",
    "        nbr_lst = struc.get_neighbor_list(r = 25, exclude_self=True)\n",
    "        min_rad = np.min(nbr_lst[3])\n",
    "        nbr_lst = struc.get_neighbor_list(r = min_rad + tolerance, exclude_self=True)\n",
    "    else:\n",
    "        nbr_lst = struc.get_neighbor_list(r = radius, exclude_self=True)\n",
    "    edge_list = np.stack((nbr_lst[0], nbr_lst[1])).transpose()\n",
    "    edge_list = torch.tensor(edge_list)\n",
    "\n",
    "    tk = edge_list[0][0]\n",
    "    hedge_index = []\n",
    "    node_index = []\n",
    "    for i, j in edge_list:\n",
    "        if i != tk:\n",
    "            hedge_index.append(tk)\n",
    "            node_index.append(tk)\n",
    "            tk = i\n",
    "        node_index.append(j)\n",
    "        hedge_index.append(i)\n",
    "    node_index.append(edge_list[-1][0])\n",
    "    hedge_index.append(edge_list[-1][0])\n",
    "    hedge_list = torch.stack((torch.tensor(node_index), torch.tensor(hedge_index)))\n",
    "    return hedge_list"
   ]
  }
 ],
 "metadata": {
  "kernelspec": {
   "display_name": "Python 3 (ipykernel)",
   "language": "python",
   "name": "python3"
  },
  "language_info": {
   "codemirror_mode": {
    "name": "ipython",
    "version": 3
   },
   "file_extension": ".py",
   "mimetype": "text/x-python",
   "name": "python",
   "nbconvert_exporter": "python",
   "pygments_lexer": "ipython3",
   "version": "3.9.7"
  }
 },
 "nbformat": 4,
 "nbformat_minor": 5
}
