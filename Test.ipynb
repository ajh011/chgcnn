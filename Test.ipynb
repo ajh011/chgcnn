{
 "cells": [
  {
   "cell_type": "code",
   "execution_count": null,
   "id": "73b77895",
   "metadata": {},
   "outputs": [],
   "source": [
    "from pymatgen.io.cif import CifWriter, CifParser\n",
    "from pymatgen.core.structure import Structure\n",
    "from torch_geometric.data import Data\n",
    "import torch\n",
    "import numpy as np"
   ]
  },
  {
   "cell_type": "code",
   "execution_count": 5,
   "id": "36860f7b",
   "metadata": {},
   "outputs": [],
   "source": [
    "\n",
    "## CIF -> tuple(tensor([[node_pos], ... ]),tensor([node_atomic_num,...])) ##\n",
    "\n",
    "#takes cif file and returns tuple of a tensor of node positions and a tensor\n",
    "# of node's atomic number, indexed same as cif2graphedges\n",
    "def cif2nodepos(cif_file):\n",
    "    struc = CifParser(cif_file).get_structures()[0]\n",
    "    site_lst = struc.sites\n",
    "    nodepos_lst = []\n",
    "    nodespec_lst = []\n",
    "    for site in site_lst:\n",
    "        nodepos_lst.append(site.coords) #Coordinate of sites\n",
    "        z_site = [element.Z for element in site.species]\n",
    "        nodespec_lst.append(z_site) #Atomic number list of site species (should always be single element list for crystal)\n",
    "    nodepos_arr = np.array(nodepos_lst, dtype=float)\n",
    "    nodespec_arr = np.squeeze(nodespec_lst)\n",
    "    return  (torch.tensor(nodepos_arr),torch.tensor(nodespec_arr))\n"
   ]
  },
  {
   "cell_type": "code",
   "execution_count": 3,
   "id": "63a6816d",
   "metadata": {},
   "outputs": [],
   "source": [
    "\n",
    "## CIF -> tensor([[node_index,...],[hyper_edge_index,...]]) ##\n",
    "\n",
    "# takes cif file and returns array (2 x num_nodes_in_hedges) of hedge index\n",
    "# (as specified in the HypergraphConv doc of PyTorch Geometric)\n",
    "# found by collecting neighbors within spec radius for each node in one hedge\n",
    "def cif2hyperedges(cif_file, radius: float = 3):\n",
    "    struc = CifParser(cif_file).get_structures()[0]\n",
    "    nbr_lst = struc.get_neighbor_list(radius, exclude_self=True)\n",
    "    edge_list = np.stack((nbr_lst[0], nbr_lst[1])).transpose()\n",
    "    edge_list = torch.tensor(edge_list)\n",
    "\n",
    "    tk = edge_list[0][0]\n",
    "    hedge_index = []\n",
    "    node_index = []\n",
    "    for i, j in edge_list:\n",
    "        if i != tk:\n",
    "            hedge_index.append(tk)\n",
    "            node_index.append(tk)\n",
    "            tk = i\n",
    "        node_index.append(j)\n",
    "        hedge_index.append(i)\n",
    "    node_index.append(edge_list[-1][0])\n",
    "    hedge_index.append(edge_list[-1][0])\n",
    "    hedge_list = torch.stack((torch.tensor(node_index), torch.tensor(hedge_index)))\n",
    "    return hedge_list\n",
    "\n",
    "def cif2hgraph(cif, radius:float = 3):\n",
    "    pos = cif2nodepos(cif)[0]\n",
    "    x = cif2nodepos(cif)[1]\n",
    "    hedge_indx = cif2hyperedges(cif, radius)\n",
    "    chgraph = Data(x=x, hyperedge_index=hedge_indx, pos=pos)\n",
    "    return chgraph\n",
    "\n",
    "\n",
    "def hgraph_list_from_dir(directory='cif', root='', atom_vecs = True, radius:float=3.0):\n",
    "    if root == '':\n",
    "        root = os. getcwd()\n",
    "    directory = root+'\\\\'+directory\n",
    "    print(f'Searching {directory} for CIF data to convert to hgraphs')\n",
    "    with open(f'{directory}\\\\id_prop.csv') as id_prop:\n",
    "        id_prop = csv.reader(id_prop)\n",
    "        id_prop_data = [row for row in id_prop]\n",
    "    graph_data_list = []\n",
    "    if atom_vecs:\n",
    "        with open(f'{directory}\\\\atom_init.json') as atom_init:\n",
    "            atom_vecs = json.load(atom_init)\n",
    "            for filename, fileprop in id_prop_data:\n",
    "                try:\n",
    "                    file = directory+'\\\\'+filename+'.cif'\n",
    "                    graph = cif2hgraph(file, radius=radius)\n",
    "                    graph.y = torch.tensor(float(fileprop))\n",
    "                    nodes_z = graph.x.tolist()\n",
    "                    nodes_atom_vec = [atom_vecs[f'{z}'] for z in nodes_z]\n",
    "                    graph.x = torch.tensor(nodes_atom_vec).float()\n",
    "                    graph_data_list.append(graph)\n",
    "                    print(f'Added {filename} to hgraph set')\n",
    "                except:\n",
    "                    print(f'Error with {filename}, confirm existence')\n",
    "    else:\n",
    "        for filename, fileprop in id_prop_data:\n",
    "                try:\n",
    "                    file = directory+'\\\\'+filename+'.cif'\n",
    "                    graph = cif2hgraph(file, radius=radius)\n",
    "                    graph.y = torch.tensor(float(fileprop))\n",
    "                    hgraph_data_list.append(graph)\n",
    "                    print(f'Added {filename} to hgraph set')\n",
    "                except:\n",
    "                    print(f'Error with {filename}, confirm existence')\n",
    "    print('Done generating hypergraph data')\n",
    "    return hgraph_data_list"
   ]
  },
  {
   "cell_type": "code",
   "execution_count": 2,
   "id": "10bdaf97",
   "metadata": {},
   "outputs": [
    {
     "data": {
      "application/vnd.jupyter.widget-view+json": {
       "model_id": "beb66e0d36344ffd90e34d2ef0226813",
       "version_major": 2,
       "version_minor": 0
      },
      "text/plain": [
       "Retrieving MaterialsDoc documents:   0%|          | 0/1 [00:00<?, ?it/s]"
      ]
     },
     "metadata": {},
     "output_type": "display_data"
    }
   ],
   "source": [
    "##DOWNLOAD SILICONE CIF FOR FORWARD TEST\n",
    "from mp_api.client import MPRester\n",
    "with MPRester(api_key=\"TzwPvkaJdQKn2Eish81buwJfgezz3ukz\") as mpr:\n",
    "    data = mpr.materials.get_data_by_id(\"mp-149\")"
   ]
  }
 ],
 "metadata": {
  "kernelspec": {
   "display_name": "Python 3 (ipykernel)",
   "language": "python",
   "name": "python3"
  },
  "language_info": {
   "codemirror_mode": {
    "name": "ipython",
    "version": 3
   },
   "file_extension": ".py",
   "mimetype": "text/x-python",
   "name": "python",
   "nbconvert_exporter": "python",
   "pygments_lexer": "ipython3",
   "version": "3.9.12"
  }
 },
 "nbformat": 4,
 "nbformat_minor": 5
}
