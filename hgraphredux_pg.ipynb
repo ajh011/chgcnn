{
 "cells": [
  {
   "cell_type": "code",
   "execution_count": 1,
   "id": "30b0f944",
   "metadata": {},
   "outputs": [],
   "source": [
    "import numpy as np\n",
    "import os\n",
    "import csv\n",
    "import json\n",
    "\n",
    "from pymatgen.io.cif import CifWriter, CifParser\n",
    "from pymatgen.core.structure import Structure\n",
    "from torch_geometric.data import Data\n",
    "import torch\n",
    "\n",
    "## struc -> tensor([[node_index,...],[hyper_edge_index,...]]) ##\n",
    "\n",
    "## subfunction for hedge_list responsible for singleton/node hedges, needs small tolerance\n",
    "## to include itself in get_neighbor_list \n",
    "\n",
    "## might need to rework to include features in each subfunction\n",
    "## atom_init from CGCNN for singletons\n",
    "\n",
    "## should be passed first in hgraph construction, since it assumes to be first \n",
    "\n",
    "def struc2singletons(struc,  hedge_list = [[],[]], tol=0.01):\n",
    "    singletons = struc.get_neighbor_list(r = tol, exclude_self=False)[0]\n",
    "    hedge_counter = 0\n",
    "    if hedge_list == [[],[]]:\n",
    "        hedge_counter = 0\n",
    "    else:\n",
    "        hedge_counter = np.max(hedge_list[1]) + 1\n",
    "    for node in singletons:\n",
    "        hedge_list[0].append(node)\n",
    "        hedge_list[1].append(hedge_counter)\n",
    "        hedge_counter += 1\n",
    "    return hedge_list\n",
    "\n",
    "\n",
    "\n",
    "\n",
    "## CIF, tensor([[node_index,...],[hyper_edge_index,...]]) -> tensor([[node_index,...],[hyper_edge_index,...]]) ##\n",
    "\n",
    "## subfunction for hedge_list responsible for pair-wise hedges\n",
    "## can be based on threshold + min_rad or some interatomic radius\n",
    "\n",
    "## might need to rework to include features in each subfunction\n",
    "## gaussian distance for pairs\n",
    "\n",
    "def struc2pairs(struc, hedge_list = [[],[]], radius: float = 3, min_rad: bool = True, tol: float = 0.1):\n",
    "    if min_rad == False:\n",
    "        nbr_lst = struc.get_neighbor_list(r = radius, exclude_self=True)\n",
    "    elif min_rad == True:\n",
    "        nbr_lst = struc.get_neighbor_list(r = 25, exclude_self=True)\n",
    "        min_rad = np.min(nbr_lst[3])\n",
    "        nbr_lst = struc.get_neighbor_list(r = min_rad+tol, exclude_self=True)\n",
    "\n",
    "    pair_center_idx = nbr_lst[0]\n",
    "    pair_neighbor_idx = nbr_lst[1]\n",
    "    if hedge_list == []:\n",
    "        hedge_counter = 0\n",
    "    else:\n",
    "        hedge_counter = np.max(hedge_list[1]) + 1\n",
    "\n",
    "    ## currently double counts pair-wise edges\n",
    "    for pair_1,pair_2 in zip(pair_center_idx, pair_neighbor_idx):\n",
    "        hedge_list[0].append(pair_1)\n",
    "        hedge_list[0].append(pair_2)\n",
    "\n",
    "        hedge_list[1].append(hedge_counter)\n",
    "        hedge_list[1].append(hedge_counter)\n",
    "        hedge_counter += 1\n",
    "\n",
    "    return hedge_list\n",
    "\n",
    "\n",
    "\n",
    "## CIF, tensor([[node_index,...],[hyper_edge_index,...]]) -> tensor([[node_index,...],[hyper_edge_index,...]]) ##\n",
    "\n",
    "## subfunction for hedge_list responsible for motif-wise hedges\n",
    "## currently based only on distance (min+thresh or set range)\n",
    "\n",
    "## might need to rework to include features in each subfunction\n",
    "## motif order parameters\n",
    "\n",
    "def struc2motifs(struc, hedge_list = [[],[]], radius: float = 3, min_rad: bool = True, tol: float = 0.1):\n",
    "    if min_rad == False:\n",
    "        nbr_lst = struc.get_neighbor_list(r = radius, exclude_self=True)\n",
    "    elif min_rad == True:\n",
    "        nbr_lst = struc.get_neighbor_list(r = 25, exclude_self=True)\n",
    "        min_rad = np.min(nbr_lst[3])\n",
    "        nbr_lst = struc.get_neighbor_list(r = min_rad+tol, exclude_self=True)\n",
    "\n",
    "    pair_center_idx = nbr_lst[0]\n",
    "    pair_neighbor_idx = nbr_lst[1]\n",
    "    if hedge_list == [[],[]]:\n",
    "        hedge_counter = 0\n",
    "    else:\n",
    "        hedge_counter = np.max(hedge_list[1]) + 1\n",
    "\n",
    "    last_center = pair_center_idx[0]\n",
    "\n",
    "    for pair_1,pair_2 in zip(pair_center_idx, pair_neighbor_idx):\n",
    "        new_center = pair_1\n",
    "        if last_center != new_center:\n",
    "            hedge_list[0].append(last_pair_1)\n",
    "            hedge_list[1].append(hedge_counter)\n",
    "            last_center = pair_1\n",
    "            hedge_counter += 1\n",
    "            \n",
    "        hedge_list[0].append(pair_2)\n",
    "        hedge_list[1].append(hedge_counter)\n",
    "\n",
    "        last_pair_1 = pair_1\n",
    "\n",
    "    return hedge_list\n",
    "\n"
   ]
  },
  {
   "cell_type": "code",
   "execution_count": 2,
   "id": "3927f51b",
   "metadata": {},
   "outputs": [],
   "source": [
    "struc = CifParser('test_cif.cif').get_structures()[0]"
   ]
  },
  {
   "cell_type": "code",
   "execution_count": 3,
   "id": "20249652",
   "metadata": {
    "scrolled": true
   },
   "outputs": [
    {
     "name": "stdout",
     "output_type": "stream",
     "text": [
      "[[0, 1, 2, 3, 4, 5, 6, 7, 8, 9, 10, 11, 0, 6, 0, 11, 0, 9, 0, 7, 0, 10, 0, 5, 1, 4, 1, 11, 1, 6, 1, 10, 1, 7, 1, 8, 2, 5, 2, 8, 2, 7, 2, 11, 2, 9, 2, 4, 3, 10, 3, 8, 3, 5, 3, 9, 3, 4, 3, 6, 4, 8, 4, 2, 4, 3, 4, 1, 5, 0, 5, 3, 5, 9, 5, 2, 6, 3, 6, 10, 6, 1, 6, 0, 7, 11, 7, 0, 7, 1, 7, 2, 8, 1, 8, 4, 8, 3, 8, 2, 9, 5, 9, 2, 9, 3, 9, 0, 10, 6, 10, 0, 10, 1, 10, 3, 11, 2, 11, 1, 11, 0, 11, 7, 6, 11, 9, 7, 10, 5, 0, 4, 11, 6, 10, 7, 8, 1, 5, 8, 7, 11, 9, 4, 2, 10, 8, 5, 9, 4, 6, 3, 8, 2, 3, 1, 4, 0, 3, 9, 2, 5, 3, 10, 1, 0, 6, 11, 0, 1, 2, 7, 1, 4, 3, 2, 8, 5, 2, 3, 0, 9, 6, 0, 1, 3, 10, 2, 1, 0, 7], [0, 1, 2, 3, 4, 5, 6, 7, 8, 9, 10, 11, 12, 12, 13, 13, 14, 14, 15, 15, 16, 16, 17, 17, 18, 18, 19, 19, 20, 20, 21, 21, 22, 22, 23, 23, 24, 24, 25, 25, 26, 26, 27, 27, 28, 28, 29, 29, 30, 30, 31, 31, 32, 32, 33, 33, 34, 34, 35, 35, 36, 36, 37, 37, 38, 38, 39, 39, 40, 40, 41, 41, 42, 42, 43, 43, 44, 44, 45, 45, 46, 46, 47, 47, 48, 48, 49, 49, 50, 50, 51, 51, 52, 52, 53, 53, 54, 54, 55, 55, 56, 56, 57, 57, 58, 58, 59, 59, 60, 60, 61, 61, 62, 62, 63, 63, 64, 64, 65, 65, 66, 66, 67, 67, 68, 68, 68, 68, 68, 68, 68, 69, 69, 69, 69, 69, 69, 69, 70, 70, 70, 70, 70, 70, 70, 71, 71, 71, 71, 71, 71, 71, 72, 72, 72, 72, 72, 73, 73, 73, 73, 73, 74, 74, 74, 74, 74, 75, 75, 75, 75, 75, 76, 76, 76, 76, 76, 77, 77, 77, 77, 77, 78, 78, 78, 78, 78, 79, 79, 79, 79]]\n"
     ]
    }
   ],
   "source": [
    "hedge_list=[[],[]]\n",
    "hedge_list = struc2singletons(struc, hedge_list)\n",
    "hedge_list = struc2pairs(struc, hedge_list)\n",
    "hedge_list = struc2motifs(struc, hedge_list)\n",
    "print(hedge_list)"
   ]
  },
  {
   "cell_type": "code",
   "execution_count": 4,
   "id": "4931d56d",
   "metadata": {},
   "outputs": [
    {
     "name": "stdout",
     "output_type": "stream",
     "text": [
      "[4, 11, 6, 10, 7, 8, 1]\n"
     ]
    }
   ],
   "source": [
    "from pymatgen.analysis.local_env import LocalStructOrderParams\n",
    "#lsop = LocalStructOrderParams(types)\n",
    "\n",
    "#Dont forget to remove initial edges before neighborhood lists\n",
    "\n",
    "hedge_list = [[],[]]\n",
    "hedge_list = struc2motifs(struc, hedge_list)\n",
    "motf_nindx = hedge_list[0][7:14]\n",
    "motf_indx  = 1\n",
    "print(motf_nindx)\n",
    "\n",
    "#len(lsop.get_order_parameters(struc, motf_indx, indices_neighs = motf_nindx))"
   ]
  },
  {
   "cell_type": "code",
   "execution_count": 5,
   "id": "702499e1",
   "metadata": {},
   "outputs": [],
   "source": [
    "from pymatgen.analysis.local_env import LocalStructOrderParams\n",
    "\n",
    "\n",
    "types = [ \"cn\",\n",
    "        \"sgl_bd\",\n",
    "        \"bent\",\n",
    "        \"tri_plan\",\n",
    "        \"tri_plan_max\",\n",
    "        \"reg_tri\",\n",
    "        \"sq_plan\",\n",
    "        \"sq_plan_max\",\n",
    "        \"pent_plan\",\n",
    "        \"pent_plan_max\",\n",
    "        \"sq\",\n",
    "        \"tet\",\n",
    "        \"tet_max\",\n",
    "        \"tri_pyr\",\n",
    "        \"sq_pyr\",\n",
    "        \"sq_pyr_legacy\",\n",
    "        \"tri_bipyr\",\n",
    "        \"sq_bipyr\",\n",
    "        \"oct\",\n",
    "        \"oct_legacy\",\n",
    "        \"pent_pyr\",\n",
    "        \"hex_pyr\",\n",
    "        \"pent_bipyr\",\n",
    "        \"hex_bipyr\",\n",
    "        \"T\",\n",
    "        \"cuboct\",\n",
    "        \"cuboct_max\",\n",
    "        \"see_saw_rect\",\n",
    "        \"bcc\",\n",
    "        \"q2\",\n",
    "        \"q4\",\n",
    "        \"q6\",\n",
    "        \"oct_max\",\n",
    "        \"hex_plan_max\",\n",
    "        \"sq_face_cap_trig_pris\"]\n",
    "\n",
    "\n",
    "lsop = LocalStructOrderParams(types)\n",
    "\n",
    "## CIF, tensor([[node_index,...],[hyper_edge_index,...]]) -> tensor([[node_index,...],[hyper_edge_index,...]]) ##\n",
    "\n",
    "## subfunction for hedge_list responsible for motif-wise hedges\n",
    "## currently based only on distance (min+thresh or set range)\n",
    "\n",
    "## might need to rework to include features in each subfunction\n",
    "## motif order parameters\n",
    "\n",
    "def struc2motifs(struc, hedge_list = [[],[]], radius: float = 3, min_rad: bool = True, tol: float = 0.1):\n",
    "    if min_rad == False:\n",
    "        nbr_lst = struc.get_neighbor_list(r = radius, exclude_self=True)\n",
    "    elif min_rad == True:\n",
    "        nbr_lst = struc.get_neighbor_list(r = 25, exclude_self=True)\n",
    "        min_rad = np.min(nbr_lst[3])\n",
    "        nbr_lst = struc.get_neighbor_list(r = min_rad+tol, exclude_self=True)\n",
    "\n",
    "    pair_center_idx = nbr_lst[0]\n",
    "    pair_neighbor_idx = nbr_lst[1]\n",
    "    if hedge_list == [[],[]]:\n",
    "        hedge_counter = 0\n",
    "    else:\n",
    "        hedge_counter = np.max(hedge_list[1]) + 1\n",
    "\n",
    "    last_center = pair_center_idx[0]\n",
    "    neighborhoods = ([],[],[])\n",
    "    neighborhood  = []\n",
    "\n",
    "    for pair_1,pair_2 in zip(pair_center_idx, pair_neighbor_idx):\n",
    "        new_center = pair_1\n",
    "        if last_center != new_center:\n",
    "            neighborhoods[0].append(hedge_counter)\n",
    "            neighborhoods[1].append(last_pair_1)\n",
    "            neighborhoods[2].append(neighborhood)\n",
    "            hedge_list[0].append(last_pair_1)\n",
    "            hedge_list[1].append(hedge_counter)\n",
    "            last_center = pair_1\n",
    "            neighborhood = []\n",
    "            hedge_counter += 1\n",
    "            \n",
    "        hedge_list[0].append(pair_2)\n",
    "        hedge_list[1].append(hedge_counter)\n",
    "        neighborhood.append(pair_2)\n",
    "        \n",
    "        last_pair_1 = pair_1\n",
    "        \n",
    "    hedge_list[0].append(last_pair_1)\n",
    "    hedge_list[1].append(hedge_counter)\n",
    "    \n",
    "    neighborhoods[0].append(hedge_counter)\n",
    "    neighborhoods[1].append(last_pair_1)\n",
    "    neighborhoods[2].append(neighborhood)\n",
    "    \n",
    "    lsop = LocalStructOrderParams(types)\n",
    "    \n",
    "    features = [[],[]]\n",
    "    for hedge_idx, center_idx, neighbor_lst in zip(neighborhoods[0],neighborhoods[1],neighborhoods[2]):\n",
    "        feature = lsop.get_order_parameters(struc, center_idx, indices_neighs = neighbor_lst)\n",
    "        features[0].append(hedge_idx)\n",
    "        features[1].append(feature)\n",
    "            \n",
    "    return hedge_list, features\n",
    "\n",
    "\n",
    "def struc2singletons(struc,  hedge_list = [[],[]], tol=0.01, import_feat: bool = False, directory: str = \"\"):\n",
    "    singletons = struc.get_neighbor_list(r = tol, exclude_self=False)[0]\n",
    "    if hedge_list == [[],[]] or hedge_list == []:\n",
    "        hedge_counter = 0\n",
    "    else:\n",
    "        hedge_counter = np.max(hedge_list[1]) + 1\n",
    "    \n",
    "    features = [[],[],[]]\n",
    "    for node in singletons:\n",
    "        hedge_list[0].append(node)\n",
    "        hedge_list[1].append(hedge_counter)\n",
    "        features[0].append(hedge_counter)\n",
    "        hedge_counter += 1\n",
    "        \n",
    "    \n",
    "    site_lst = struc.sites\n",
    "    for site in site_lst:\n",
    "        features[2].append(site.coords) #Coordinate of sites\n",
    "        z_site = [element.Z for element in site.species]\n",
    "        features[1].append(z_site[0]) #Atomic num of sites\n",
    "    \n",
    "    if import_feat == True:\n",
    "        with open(f'{directory}atom_init.json') as atom_init:\n",
    "            atom_vecs = json.load(atom_init)\n",
    "            features[1] = [atom_vecs[f'{z}'] for z in features[1]]\n",
    "\n",
    "    return hedge_list, features\n"
   ]
  },
  {
   "cell_type": "code",
   "execution_count": 6,
   "id": "95680f0c",
   "metadata": {},
   "outputs": [
    {
     "name": "stdout",
     "output_type": "stream",
     "text": [
      "[6.0, 2.220446049250313e-16, 7.121562665051939e-05, 0.0008384951159906882, 0.028653472314188584, 1.0658041506816435e-205, 0.14243183801701953, 0.3934481096907446, 0.030746076199275815, 0.389181844384812, 6.315412975334043e-31, 0.007254860759403706, 0.1562813946707834, 0.5113057454736281, 0.5814634668618692, 0.11932998001665218, 0.49161942485188304, 0.5308165961703892, 0.20006814693155736, 0.023694994598985445, 0.5354550624747225, 0.43823066521432336, 0.5223879964881926, 0.42443864403871856, 0.43036784535257916, 0.29334660406606244, 0.46704357385544876, 0.4068229648171845, 0.01447498552276311, 0.4058885720384663, 0.5165345556934031, 0.2803649979112953, 0.5308165961703892, 0.21853026521726338, 0.3604484545887907]\n"
     ]
    }
   ],
   "source": [
    "hedge_list = [[],[]]\n",
    "hedge_list = struc2motifs(struc, hedge_list)[1][1][0]\n",
    "print(hedge_list)"
   ]
  },
  {
   "cell_type": "code",
   "execution_count": 7,
   "id": "f22d1a16",
   "metadata": {},
   "outputs": [],
   "source": [
    "## struc -> tuple(tensor([[node_pos], ... ]),tensor([node_atomic_num,...])) ##\n",
    "\n",
    "#takes cif file and returns tuple of a tensor of node positions and a tensor\n",
    "# of nodes atomic number, indexed same as cif2graphedges\n",
    "def cif2nodepos(struc):\n",
    "    site_lst = struc.sites\n",
    "    nodepos_lst = []\n",
    "    nodespec_lst = []\n",
    "    for site in site_lst:\n",
    "        nodepos_lst.append(site.coords) #Coordinate of sites\n",
    "        z_site = [element.Z for element in site.species]\n",
    "        nodespec_lst.append(z_site) #Atomic number list of site species (should always be single element list for crystal)\n",
    "    nodepos_arr = np.array(nodepos_lst, dtype=float)\n",
    "    nodespec_arr = np.squeeze(nodespec_lst)\n",
    "    return  (torch.tensor(nodepos_arr),torch.tensor(nodespec_arr))\n"
   ]
  },
  {
   "cell_type": "code",
   "execution_count": 8,
   "id": "c5b3a420",
   "metadata": {
    "scrolled": true
   },
   "outputs": [
    {
     "name": "stdout",
     "output_type": "stream",
     "text": [
      "[[0, 1, 2, 3, 4, 5, 6, 7, 8, 9, 10, 11], [0, 1, 2, 3, 4, 5, 6, 7, 8, 9, 10, 11]]\n"
     ]
    }
   ],
   "source": [
    "hedge_list = [[],[]]\n",
    "hedge_list = struc2singletons(struc, hedge_list)[0]\n",
    "print(hedge_list)"
   ]
  },
  {
   "cell_type": "code",
   "execution_count": 9,
   "id": "1b270233",
   "metadata": {},
   "outputs": [],
   "source": [
    "## struc, tensor([[node_index,...],[hyper_edge_index,...]]) -> tensor([[node_index,...],[hyper_edge_index,...]]) ##\n",
    "\n",
    "## subfunction for hedge_list responsible for pair-wise hedges\n",
    "## can be based on threshold + min_rad or some interatomic radius\n",
    "\n",
    "## might need to rework to include features in each subfunction\n",
    "## gaussian distance for pairs\n",
    "\n",
    "def struc2pairs(struc, hedge_list = [[],[]], radius: float = 3, min_rad: bool = True, tol: float = 0.1, gauss_dim: int = 1):\n",
    "    if min_rad == False:\n",
    "        nbr_lst = struc.get_neighbor_list(r = radius, exclude_self=True)\n",
    "    elif min_rad == True:\n",
    "        nbr_lst = struc.get_neighbor_list(r = 25, exclude_self=True)\n",
    "        min_rad = np.min(nbr_lst[3])\n",
    "        nbr_lst = struc.get_neighbor_list(r = min_rad+tol, exclude_self=True)\n",
    "\n",
    "    pair_center_idx = nbr_lst[0]\n",
    "    pair_neighbor_idx = nbr_lst[1]\n",
    "    distances = nbr_lst[3]\n",
    "    \n",
    "    if hedge_list == [[],[]]:\n",
    "        hedge_counter = 0\n",
    "    else:\n",
    "        hedge_counter = np.max(hedge_list[1]) + 1\n",
    "\n",
    "    features = [[],[]]\n",
    "    ## currently double counts pair-wise edges\n",
    "    for pair_1,pair_2,dist in zip(pair_center_idx, pair_neighbor_idx,distances):\n",
    "        hedge_list[0].append(pair_1)\n",
    "        hedge_list[0].append(pair_2)\n",
    "\n",
    "        hedge_list[1].append(hedge_counter)\n",
    "        hedge_list[1].append(hedge_counter)\n",
    "        \n",
    "        features[0].append(hedge_counter)\n",
    "        features[1].append(dist)\n",
    "        \n",
    "        hedge_counter += 1\n",
    "    if gauss_dim != 1:\n",
    "        ge = gaussian_expansion(dmin = 0 ,dmax = radius + 5*tol, steps = gauss_dim)\n",
    "        features[1]=[ge.expand(dist) for dist in features[1]]\n",
    "\n",
    "    \n",
    "    return hedge_list, features\n",
    "\n",
    "\n",
    "## Gaussian distance expansion function for pair hedge features\n",
    "\n",
    "import math\n",
    "\n",
    "class gaussian_expansion(object):\n",
    "    def __init__(self, dmin, dmax, steps):\n",
    "        assert dmin<dmax\n",
    "        self.dmin = dmin\n",
    "        self.dmax = dmax\n",
    "        self.steps = steps\n",
    "        \n",
    "    def expand(self, distance, sig=None):\n",
    "        drange = self.dmax-self.dmin\n",
    "        step_size = drange/self.steps\n",
    "        if sig == None:\n",
    "            sig = step_size/2\n",
    "        ds = [self.dmin + i*step_size for i in range(self.steps)]\n",
    "        expansion = [math.exp(-(distance-center)**2/(2*sig**2)) for center in ds]\n",
    "        return expansion\n",
    "\n",
    "    \n",
    "    "
   ]
  },
  {
   "cell_type": "code",
   "execution_count": 10,
   "id": "4f151850",
   "metadata": {},
   "outputs": [
    {
     "name": "stdout",
     "output_type": "stream",
     "text": [
      "[4.1871975449302247e-10, 2.8937889790041914e-05, 0.03662961367938433, 0.8492193684981157, 0.36060314951808503]\n"
     ]
    }
   ],
   "source": [
    "hedge_list = [[],[]]\n",
    "hedge_list = struc2pairs(struc, hedge_list, gauss_dim=5)[1][1][0]\n",
    "print(hedge_list)"
   ]
  },
  {
   "cell_type": "code",
   "execution_count": 11,
   "id": "a296b0e0",
   "metadata": {},
   "outputs": [
    {
     "data": {
      "text/plain": [
       "[1.522997974471263e-08,\n",
       " 0.00033546262790251185,\n",
       " 0.1353352832366127,\n",
       " 1.0,\n",
       " 0.1353352832366127,\n",
       " 0.00033546262790251185,\n",
       " 1.522997974471263e-08,\n",
       " 1.2664165549094176e-14]"
      ]
     },
     "execution_count": 11,
     "metadata": {},
     "output_type": "execute_result"
    }
   ],
   "source": [
    "ge = gaussian_expansion(2,10,8)\n",
    "ge.expand(5)"
   ]
  },
  {
   "cell_type": "code",
   "execution_count": 12,
   "id": "203414d6",
   "metadata": {},
   "outputs": [],
   "source": [
    "def hedge_packer(hedge_list):\n",
    "    new_hedges = [[],[]]\n",
    "    hedge_nodes = []\n",
    "    old_hedge = hedge_list[1][0]\n",
    "    for idx,(node,hedge) in enumerate(zip(hedge_list[0],hedge_list[1])):\n",
    "        new_hedge = hedge_list[1][idx]\n",
    "        if new_hedge != old_hedge:\n",
    "            new_hedges[0].append(old_hedge)\n",
    "            old_hedge = hedge_list[1][idx]\n",
    "            new_hedges[1].append(hedge_nodes)\n",
    "            hedge_nodes = []\n",
    "        hedge_nodes.append(node)\n",
    "    new_hedges[0].append(new_hedge)\n",
    "    new_hedges[1].append(hedge_nodes)\n",
    "    return new_hedges\n",
    "\n"
   ]
  },
  {
   "cell_type": "code",
   "execution_count": 13,
   "id": "8e510da4",
   "metadata": {},
   "outputs": [],
   "source": [
    "def relatives(hedge_pack):\n",
    "    relative_list = [[],[]]\n",
    "    for idx1, hedge in enumerate(hedge_pack[0]):\n",
    "        #print(idx1)\n",
    "        relative_list[0].append(hedge)\n",
    "        relatives = []\n",
    "        for idx2,nodes_contained in enumerate(hedge_pack[1]):\n",
    "            #print(nodes_contained)\n",
    "            if  all(item in nodes_contained for item in hedge_pack[1][idx1]) or all(item in hedge_pack[1][idx1] for item in nodes_contained):\n",
    "                relatives.append(hedge_pack[0][idx2])\n",
    "        relatives.remove(hedge)\n",
    "        relative_list[1].append(relatives)\n",
    "    return relative_list\n",
    "    "
   ]
  },
  {
   "cell_type": "code",
   "execution_count": 14,
   "id": "39f9d729",
   "metadata": {},
   "outputs": [
    {
     "name": "stdout",
     "output_type": "stream",
     "text": [
      "[[0, 1, 2, 3, 4, 5, 6, 7, 8, 9, 10, 11, 0, 6, 0, 11, 0, 9, 0, 7, 0, 10, 0, 5, 1, 4, 1, 11, 1, 6, 1, 10, 1, 7, 1, 8, 2, 5, 2, 8, 2, 7, 2, 11, 2, 9, 2, 4, 3, 10, 3, 8, 3, 5, 3, 9, 3, 4, 3, 6, 4, 8, 4, 2, 4, 3, 4, 1, 5, 0, 5, 3, 5, 9, 5, 2, 6, 3, 6, 10, 6, 1, 6, 0, 7, 11, 7, 0, 7, 1, 7, 2, 8, 1, 8, 4, 8, 3, 8, 2, 9, 5, 9, 2, 9, 3, 9, 0, 10, 6, 10, 0, 10, 1, 10, 3, 11, 2, 11, 1, 11, 0, 11, 7, 6, 11, 9, 7, 10, 5, 0, 4, 11, 6, 10, 7, 8, 1, 5, 8, 7, 11, 9, 4, 2, 10, 8, 5, 9, 4, 6, 3, 8, 2, 3, 1, 4, 0, 3, 9, 2, 5, 3, 10, 1, 0, 6, 11, 0, 1, 2, 7, 1, 4, 3, 2, 8, 5, 2, 3, 0, 9, 6, 0, 1, 3, 10, 2, 1, 0, 7, 11], [0, 1, 2, 3, 4, 5, 6, 7, 8, 9, 10, 11, 12, 12, 13, 13, 14, 14, 15, 15, 16, 16, 17, 17, 18, 18, 19, 19, 20, 20, 21, 21, 22, 22, 23, 23, 24, 24, 25, 25, 26, 26, 27, 27, 28, 28, 29, 29, 30, 30, 31, 31, 32, 32, 33, 33, 34, 34, 35, 35, 36, 36, 37, 37, 38, 38, 39, 39, 40, 40, 41, 41, 42, 42, 43, 43, 44, 44, 45, 45, 46, 46, 47, 47, 48, 48, 49, 49, 50, 50, 51, 51, 52, 52, 53, 53, 54, 54, 55, 55, 56, 56, 57, 57, 58, 58, 59, 59, 60, 60, 61, 61, 62, 62, 63, 63, 64, 64, 65, 65, 66, 66, 67, 67, 68, 68, 68, 68, 68, 68, 68, 69, 69, 69, 69, 69, 69, 69, 70, 70, 70, 70, 70, 70, 70, 71, 71, 71, 71, 71, 71, 71, 72, 72, 72, 72, 72, 73, 73, 73, 73, 73, 74, 74, 74, 74, 74, 75, 75, 75, 75, 75, 76, 76, 76, 76, 76, 77, 77, 77, 77, 77, 78, 78, 78, 78, 78, 79, 79, 79, 79, 79]]\n",
      "[[0, 1, 2, 3, 4, 5, 6, 7, 8, 9, 10, 11, 12, 13, 14, 15, 16, 17, 18, 19, 20, 21, 22, 23, 24, 25, 26, 27, 28, 29, 30, 31, 32, 33, 34, 35, 36, 37, 38, 39, 40, 41, 42, 43, 44, 45, 46, 47, 48, 49, 50, 51, 52, 53, 54, 55, 56, 57, 58, 59, 60, 61, 62, 63, 64, 65, 66, 67, 68, 69, 70, 71, 72, 73, 74, 75, 76, 77, 78, 79], [[0], [1], [2], [3], [4], [5], [6], [7], [8], [9], [10], [11], [0, 6], [0, 11], [0, 9], [0, 7], [0, 10], [0, 5], [1, 4], [1, 11], [1, 6], [1, 10], [1, 7], [1, 8], [2, 5], [2, 8], [2, 7], [2, 11], [2, 9], [2, 4], [3, 10], [3, 8], [3, 5], [3, 9], [3, 4], [3, 6], [4, 8], [4, 2], [4, 3], [4, 1], [5, 0], [5, 3], [5, 9], [5, 2], [6, 3], [6, 10], [6, 1], [6, 0], [7, 11], [7, 0], [7, 1], [7, 2], [8, 1], [8, 4], [8, 3], [8, 2], [9, 5], [9, 2], [9, 3], [9, 0], [10, 6], [10, 0], [10, 1], [10, 3], [11, 2], [11, 1], [11, 0], [11, 7], [6, 11, 9, 7, 10, 5, 0], [4, 11, 6, 10, 7, 8, 1], [5, 8, 7, 11, 9, 4, 2], [10, 8, 5, 9, 4, 6, 3], [8, 2, 3, 1, 4], [0, 3, 9, 2, 5], [3, 10, 1, 0, 6], [11, 0, 1, 2, 7], [1, 4, 3, 2, 8], [5, 2, 3, 0, 9], [6, 0, 1, 3, 10], [2, 1, 0, 7, 11]]]\n"
     ]
    }
   ],
   "source": [
    "hedge_list = [[],[]]\n",
    "hedge_list = struc2singletons(struc, hedge_list)[0]\n",
    "hedge_list = struc2pairs(struc, hedge_list, gauss_dim=1)[0]\n",
    "hedge_list = struc2motifs(struc, hedge_list)[0]\n",
    "print(hedge_list)\n",
    "print(hedge_packer(hedge_list))"
   ]
  },
  {
   "cell_type": "code",
   "execution_count": 15,
   "id": "2bfa4ec9",
   "metadata": {
    "scrolled": true
   },
   "outputs": [],
   "source": [
    "# generates edge pairs for relatives graph from relatives function output\n",
    "\n",
    "def relatives2graphedges(relative_list):\n",
    "    rel_ge = [[],[]]\n",
    "    for idx,pair_center in enumerate(relative_list[0]):\n",
    "        for neighbor in relative_list[1][idx]:\n",
    "            rel_ge[0].append(pair_center)\n",
    "            rel_ge[1].append(neighbor)\n",
    "    return rel_ge"
   ]
  },
  {
   "cell_type": "code",
   "execution_count": 16,
   "id": "d43b8aae",
   "metadata": {
    "collapsed": true
   },
   "outputs": [
    {
     "name": "stdout",
     "output_type": "stream",
     "text": [
      "[[0, 1, 2, 3, 4, 5, 6, 7, 8, 9, 10, 11, 12, 13, 14, 15, 16, 17, 18, 19, 20, 21, 22, 23, 24, 25, 26, 27, 28, 29, 30, 31, 32, 33, 34, 35, 36, 37, 38, 39, 40, 41, 42, 43, 44, 45, 46, 47, 48, 49, 50, 51, 52, 53, 54, 55, 56, 57, 58, 59, 60, 61, 62, 63, 64, 65, 66, 67, 68, 69, 70, 71, 72, 73, 74, 75, 76, 77, 78, 79], [[12, 13, 14, 15, 16, 17, 40, 47, 49, 59, 61, 66, 68, 73, 74, 75, 77, 78, 79], [18, 19, 20, 21, 22, 23, 39, 46, 50, 52, 62, 65, 69, 72, 74, 75, 76, 78, 79], [24, 25, 26, 27, 28, 29, 37, 43, 51, 55, 57, 64, 70, 72, 73, 75, 76, 77, 79], [30, 31, 32, 33, 34, 35, 38, 41, 44, 54, 58, 63, 71, 72, 73, 74, 76, 77, 78], [18, 29, 34, 36, 37, 38, 39, 53, 69, 70, 71, 72, 76], [17, 24, 32, 40, 41, 42, 43, 56, 68, 70, 71, 73, 77], [12, 20, 35, 44, 45, 46, 47, 60, 68, 69, 71, 74, 78], [15, 22, 26, 48, 49, 50, 51, 67, 68, 69, 70, 75, 79], [23, 25, 31, 36, 52, 53, 54, 55, 69, 70, 71, 72, 76], [14, 28, 33, 42, 56, 57, 58, 59, 68, 70, 71, 73, 77], [16, 21, 30, 45, 60, 61, 62, 63, 68, 69, 71, 74, 78], [13, 19, 27, 48, 64, 65, 66, 67, 68, 69, 70, 75, 79], [0, 6, 47, 68, 74, 78], [0, 11, 66, 68, 75, 79], [0, 9, 59, 68, 73, 77], [0, 7, 49, 68, 75, 79], [0, 10, 61, 68, 74, 78], [0, 5, 40, 68, 73, 77], [1, 4, 39, 69, 72, 76], [1, 11, 65, 69, 75, 79], [1, 6, 46, 69, 74, 78], [1, 10, 62, 69, 74, 78], [1, 7, 50, 69, 75, 79], [1, 8, 52, 69, 72, 76], [2, 5, 43, 70, 73, 77], [2, 8, 55, 70, 72, 76], [2, 7, 51, 70, 75, 79], [2, 11, 64, 70, 75, 79], [2, 9, 57, 70, 73, 77], [2, 4, 37, 70, 72, 76], [3, 10, 63, 71, 74, 78], [3, 8, 54, 71, 72, 76], [3, 5, 41, 71, 73, 77], [3, 9, 58, 71, 73, 77], [3, 4, 38, 71, 72, 76], [3, 6, 44, 71, 74, 78], [4, 8, 53, 69, 70, 71, 72, 76], [2, 4, 29, 70, 72, 76], [3, 4, 34, 71, 72, 76], [1, 4, 18, 69, 72, 76], [0, 5, 17, 68, 73, 77], [3, 5, 32, 71, 73, 77], [5, 9, 56, 68, 70, 71, 73, 77], [2, 5, 24, 70, 73, 77], [3, 6, 35, 71, 74, 78], [6, 10, 60, 68, 69, 71, 74, 78], [1, 6, 20, 69, 74, 78], [0, 6, 12, 68, 74, 78], [7, 11, 67, 68, 69, 70, 75, 79], [0, 7, 15, 68, 75, 79], [1, 7, 22, 69, 75, 79], [2, 7, 26, 70, 75, 79], [1, 8, 23, 69, 72, 76], [4, 8, 36, 69, 70, 71, 72, 76], [3, 8, 31, 71, 72, 76], [2, 8, 25, 70, 72, 76], [5, 9, 42, 68, 70, 71, 73, 77], [2, 9, 28, 70, 73, 77], [3, 9, 33, 71, 73, 77], [0, 9, 14, 68, 73, 77], [6, 10, 45, 68, 69, 71, 74, 78], [0, 10, 16, 68, 74, 78], [1, 10, 21, 69, 74, 78], [3, 10, 30, 71, 74, 78], [2, 11, 27, 70, 75, 79], [1, 11, 19, 69, 75, 79], [0, 11, 13, 68, 75, 79], [7, 11, 48, 68, 69, 70, 75, 79], [0, 5, 6, 7, 9, 10, 11, 12, 13, 14, 15, 16, 17, 40, 42, 45, 47, 48, 49, 56, 59, 60, 61, 66, 67], [1, 4, 6, 7, 8, 10, 11, 18, 19, 20, 21, 22, 23, 36, 39, 45, 46, 48, 50, 52, 53, 60, 62, 65, 67], [2, 4, 5, 7, 8, 9, 11, 24, 25, 26, 27, 28, 29, 36, 37, 42, 43, 48, 51, 53, 55, 56, 57, 64, 67], [3, 4, 5, 6, 8, 9, 10, 30, 31, 32, 33, 34, 35, 36, 38, 41, 42, 44, 45, 53, 54, 56, 58, 60, 63], [1, 2, 3, 4, 8, 18, 23, 25, 29, 31, 34, 36, 37, 38, 39, 52, 53, 54, 55, 76], [0, 2, 3, 5, 9, 14, 17, 24, 28, 32, 33, 40, 41, 42, 43, 56, 57, 58, 59, 77], [0, 1, 3, 6, 10, 12, 16, 20, 21, 30, 35, 44, 45, 46, 47, 60, 61, 62, 63, 78], [0, 1, 2, 7, 11, 13, 15, 19, 22, 26, 27, 48, 49, 50, 51, 64, 65, 66, 67, 79], [1, 2, 3, 4, 8, 18, 23, 25, 29, 31, 34, 36, 37, 38, 39, 52, 53, 54, 55, 72], [0, 2, 3, 5, 9, 14, 17, 24, 28, 32, 33, 40, 41, 42, 43, 56, 57, 58, 59, 73], [0, 1, 3, 6, 10, 12, 16, 20, 21, 30, 35, 44, 45, 46, 47, 60, 61, 62, 63, 74], [0, 1, 2, 7, 11, 13, 15, 19, 22, 26, 27, 48, 49, 50, 51, 64, 65, 66, 67, 75]]]\n",
      "[[0, 0, 0, 0, 0, 0, 0, 0, 0, 0, 0, 0, 0, 0, 0, 0, 0, 0, 0, 1, 1, 1, 1, 1, 1, 1, 1, 1, 1, 1, 1, 1, 1, 1, 1, 1, 1, 1, 2, 2, 2, 2, 2, 2, 2, 2, 2, 2, 2, 2, 2, 2, 2, 2, 2, 2, 2, 3, 3, 3, 3, 3, 3, 3, 3, 3, 3, 3, 3, 3, 3, 3, 3, 3, 3, 3, 4, 4, 4, 4, 4, 4, 4, 4, 4, 4, 4, 4, 4, 5, 5, 5, 5, 5, 5, 5, 5, 5, 5, 5, 5, 5, 6, 6, 6, 6, 6, 6, 6, 6, 6, 6, 6, 6, 6, 7, 7, 7, 7, 7, 7, 7, 7, 7, 7, 7, 7, 7, 8, 8, 8, 8, 8, 8, 8, 8, 8, 8, 8, 8, 8, 9, 9, 9, 9, 9, 9, 9, 9, 9, 9, 9, 9, 9, 10, 10, 10, 10, 10, 10, 10, 10, 10, 10, 10, 10, 10, 11, 11, 11, 11, 11, 11, 11, 11, 11, 11, 11, 11, 11, 12, 12, 12, 12, 12, 12, 13, 13, 13, 13, 13, 13, 14, 14, 14, 14, 14, 14, 15, 15, 15, 15, 15, 15, 16, 16, 16, 16, 16, 16, 17, 17, 17, 17, 17, 17, 18, 18, 18, 18, 18, 18, 19, 19, 19, 19, 19, 19, 20, 20, 20, 20, 20, 20, 21, 21, 21, 21, 21, 21, 22, 22, 22, 22, 22, 22, 23, 23, 23, 23, 23, 23, 24, 24, 24, 24, 24, 24, 25, 25, 25, 25, 25, 25, 26, 26, 26, 26, 26, 26, 27, 27, 27, 27, 27, 27, 28, 28, 28, 28, 28, 28, 29, 29, 29, 29, 29, 29, 30, 30, 30, 30, 30, 30, 31, 31, 31, 31, 31, 31, 32, 32, 32, 32, 32, 32, 33, 33, 33, 33, 33, 33, 34, 34, 34, 34, 34, 34, 35, 35, 35, 35, 35, 35, 36, 36, 36, 36, 36, 36, 36, 36, 37, 37, 37, 37, 37, 37, 38, 38, 38, 38, 38, 38, 39, 39, 39, 39, 39, 39, 40, 40, 40, 40, 40, 40, 41, 41, 41, 41, 41, 41, 42, 42, 42, 42, 42, 42, 42, 42, 43, 43, 43, 43, 43, 43, 44, 44, 44, 44, 44, 44, 45, 45, 45, 45, 45, 45, 45, 45, 46, 46, 46, 46, 46, 46, 47, 47, 47, 47, 47, 47, 48, 48, 48, 48, 48, 48, 48, 48, 49, 49, 49, 49, 49, 49, 50, 50, 50, 50, 50, 50, 51, 51, 51, 51, 51, 51, 52, 52, 52, 52, 52, 52, 53, 53, 53, 53, 53, 53, 53, 53, 54, 54, 54, 54, 54, 54, 55, 55, 55, 55, 55, 55, 56, 56, 56, 56, 56, 56, 56, 56, 57, 57, 57, 57, 57, 57, 58, 58, 58, 58, 58, 58, 59, 59, 59, 59, 59, 59, 60, 60, 60, 60, 60, 60, 60, 60, 61, 61, 61, 61, 61, 61, 62, 62, 62, 62, 62, 62, 63, 63, 63, 63, 63, 63, 64, 64, 64, 64, 64, 64, 65, 65, 65, 65, 65, 65, 66, 66, 66, 66, 66, 66, 67, 67, 67, 67, 67, 67, 67, 67, 68, 68, 68, 68, 68, 68, 68, 68, 68, 68, 68, 68, 68, 68, 68, 68, 68, 68, 68, 68, 68, 68, 68, 68, 68, 69, 69, 69, 69, 69, 69, 69, 69, 69, 69, 69, 69, 69, 69, 69, 69, 69, 69, 69, 69, 69, 69, 69, 69, 69, 70, 70, 70, 70, 70, 70, 70, 70, 70, 70, 70, 70, 70, 70, 70, 70, 70, 70, 70, 70, 70, 70, 70, 70, 70, 71, 71, 71, 71, 71, 71, 71, 71, 71, 71, 71, 71, 71, 71, 71, 71, 71, 71, 71, 71, 71, 71, 71, 71, 71, 72, 72, 72, 72, 72, 72, 72, 72, 72, 72, 72, 72, 72, 72, 72, 72, 72, 72, 72, 72, 73, 73, 73, 73, 73, 73, 73, 73, 73, 73, 73, 73, 73, 73, 73, 73, 73, 73, 73, 73, 74, 74, 74, 74, 74, 74, 74, 74, 74, 74, 74, 74, 74, 74, 74, 74, 74, 74, 74, 74, 75, 75, 75, 75, 75, 75, 75, 75, 75, 75, 75, 75, 75, 75, 75, 75, 75, 75, 75, 75, 76, 76, 76, 76, 76, 76, 76, 76, 76, 76, 76, 76, 76, 76, 76, 76, 76, 76, 76, 76, 77, 77, 77, 77, 77, 77, 77, 77, 77, 77, 77, 77, 77, 77, 77, 77, 77, 77, 77, 77, 78, 78, 78, 78, 78, 78, 78, 78, 78, 78, 78, 78, 78, 78, 78, 78, 78, 78, 78, 78, 79, 79, 79, 79, 79, 79, 79, 79, 79, 79, 79, 79, 79, 79, 79, 79, 79, 79, 79, 79], [12, 13, 14, 15, 16, 17, 40, 47, 49, 59, 61, 66, 68, 73, 74, 75, 77, 78, 79, 18, 19, 20, 21, 22, 23, 39, 46, 50, 52, 62, 65, 69, 72, 74, 75, 76, 78, 79, 24, 25, 26, 27, 28, 29, 37, 43, 51, 55, 57, 64, 70, 72, 73, 75, 76, 77, 79, 30, 31, 32, 33, 34, 35, 38, 41, 44, 54, 58, 63, 71, 72, 73, 74, 76, 77, 78, 18, 29, 34, 36, 37, 38, 39, 53, 69, 70, 71, 72, 76, 17, 24, 32, 40, 41, 42, 43, 56, 68, 70, 71, 73, 77, 12, 20, 35, 44, 45, 46, 47, 60, 68, 69, 71, 74, 78, 15, 22, 26, 48, 49, 50, 51, 67, 68, 69, 70, 75, 79, 23, 25, 31, 36, 52, 53, 54, 55, 69, 70, 71, 72, 76, 14, 28, 33, 42, 56, 57, 58, 59, 68, 70, 71, 73, 77, 16, 21, 30, 45, 60, 61, 62, 63, 68, 69, 71, 74, 78, 13, 19, 27, 48, 64, 65, 66, 67, 68, 69, 70, 75, 79, 0, 6, 47, 68, 74, 78, 0, 11, 66, 68, 75, 79, 0, 9, 59, 68, 73, 77, 0, 7, 49, 68, 75, 79, 0, 10, 61, 68, 74, 78, 0, 5, 40, 68, 73, 77, 1, 4, 39, 69, 72, 76, 1, 11, 65, 69, 75, 79, 1, 6, 46, 69, 74, 78, 1, 10, 62, 69, 74, 78, 1, 7, 50, 69, 75, 79, 1, 8, 52, 69, 72, 76, 2, 5, 43, 70, 73, 77, 2, 8, 55, 70, 72, 76, 2, 7, 51, 70, 75, 79, 2, 11, 64, 70, 75, 79, 2, 9, 57, 70, 73, 77, 2, 4, 37, 70, 72, 76, 3, 10, 63, 71, 74, 78, 3, 8, 54, 71, 72, 76, 3, 5, 41, 71, 73, 77, 3, 9, 58, 71, 73, 77, 3, 4, 38, 71, 72, 76, 3, 6, 44, 71, 74, 78, 4, 8, 53, 69, 70, 71, 72, 76, 2, 4, 29, 70, 72, 76, 3, 4, 34, 71, 72, 76, 1, 4, 18, 69, 72, 76, 0, 5, 17, 68, 73, 77, 3, 5, 32, 71, 73, 77, 5, 9, 56, 68, 70, 71, 73, 77, 2, 5, 24, 70, 73, 77, 3, 6, 35, 71, 74, 78, 6, 10, 60, 68, 69, 71, 74, 78, 1, 6, 20, 69, 74, 78, 0, 6, 12, 68, 74, 78, 7, 11, 67, 68, 69, 70, 75, 79, 0, 7, 15, 68, 75, 79, 1, 7, 22, 69, 75, 79, 2, 7, 26, 70, 75, 79, 1, 8, 23, 69, 72, 76, 4, 8, 36, 69, 70, 71, 72, 76, 3, 8, 31, 71, 72, 76, 2, 8, 25, 70, 72, 76, 5, 9, 42, 68, 70, 71, 73, 77, 2, 9, 28, 70, 73, 77, 3, 9, 33, 71, 73, 77, 0, 9, 14, 68, 73, 77, 6, 10, 45, 68, 69, 71, 74, 78, 0, 10, 16, 68, 74, 78, 1, 10, 21, 69, 74, 78, 3, 10, 30, 71, 74, 78, 2, 11, 27, 70, 75, 79, 1, 11, 19, 69, 75, 79, 0, 11, 13, 68, 75, 79, 7, 11, 48, 68, 69, 70, 75, 79, 0, 5, 6, 7, 9, 10, 11, 12, 13, 14, 15, 16, 17, 40, 42, 45, 47, 48, 49, 56, 59, 60, 61, 66, 67, 1, 4, 6, 7, 8, 10, 11, 18, 19, 20, 21, 22, 23, 36, 39, 45, 46, 48, 50, 52, 53, 60, 62, 65, 67, 2, 4, 5, 7, 8, 9, 11, 24, 25, 26, 27, 28, 29, 36, 37, 42, 43, 48, 51, 53, 55, 56, 57, 64, 67, 3, 4, 5, 6, 8, 9, 10, 30, 31, 32, 33, 34, 35, 36, 38, 41, 42, 44, 45, 53, 54, 56, 58, 60, 63, 1, 2, 3, 4, 8, 18, 23, 25, 29, 31, 34, 36, 37, 38, 39, 52, 53, 54, 55, 76, 0, 2, 3, 5, 9, 14, 17, 24, 28, 32, 33, 40, 41, 42, 43, 56, 57, 58, 59, 77, 0, 1, 3, 6, 10, 12, 16, 20, 21, 30, 35, 44, 45, 46, 47, 60, 61, 62, 63, 78, 0, 1, 2, 7, 11, 13, 15, 19, 22, 26, 27, 48, 49, 50, 51, 64, 65, 66, 67, 79, 1, 2, 3, 4, 8, 18, 23, 25, 29, 31, 34, 36, 37, 38, 39, 52, 53, 54, 55, 72, 0, 2, 3, 5, 9, 14, 17, 24, 28, 32, 33, 40, 41, 42, 43, 56, 57, 58, 59, 73, 0, 1, 3, 6, 10, 12, 16, 20, 21, 30, 35, 44, 45, 46, 47, 60, 61, 62, 63, 74, 0, 1, 2, 7, 11, 13, 15, 19, 22, 26, 27, 48, 49, 50, 51, 64, 65, 66, 67, 75]]\n"
     ]
    }
   ],
   "source": [
    "relative = relatives(hedge_packer(hedge_list))\n",
    "print(relative)\n",
    "print(relatives2graphedges(relative))"
   ]
  },
  {
   "cell_type": "code",
   "execution_count": 43,
   "id": "dcfe9d62",
   "metadata": {},
   "outputs": [],
   "source": [
    "\n",
    "## CIF -> [[node_index,...],[hyper_edge_index,...]], (singleton_feats, pairs, motifs) ##\n",
    "\n",
    "# takes cif file and returns array (2 x num_nodes_in_hedges) of hedge index\n",
    "# (as specified in the HypergraphConv doc of PyTorch Geometric)\n",
    "# found by collecting neighbors within spec radius for each node in one hedge\n",
    "\n",
    "\n",
    "def cif2hedges(cif_file, radius: float = 3, min_rad: bool = True, tol: float = 0.1, features: bool = False, gauss_dim: int = 5):\n",
    "    struc = CifParser(cif_file).get_structures()[0]\n",
    "    hedge_list = [[],[]]\n",
    "    feats = []\n",
    "    hedge_list, singleton_feat = struc2singletons(struc, hedge_list, import_feat = True)\n",
    "    hedge_list, pair_feat = struc2pairs(struc, hedge_list, radius, min_rad, tol, gauss_dim = gauss_dim)\n",
    "    hedge_list, motif_feat = struc2motifs(struc, hedge_list, radius, min_rad, tol)\n",
    "    if features == True:\n",
    "        return hedge_list, (singleton_feat, pair_feat, motif_feat)\n",
    "    elif features == False:\n",
    "        return hedge_list\n",
    "    \n",
    "## CIF -> array([[graph_edge_1_node_1,...],[graph_edge_1_node_2,...]]) ##\n",
    "\n",
    "\n",
    "def cif2reledges(cif_file, radius: float = 3, min_rad: bool = True, tol: float = 0.1, features: bool = False, gauss_dim: int = 5):\n",
    "    hedge_list, feats = cif2hedges(cif_file, radius, min_rad, tol, features, gauss_dim)\n",
    "    relative = relatives(hedge_packer(hedge_list))\n",
    "    edges = np.array(relatives2graphedges(relative))\n",
    "    if features == True:\n",
    "        return edges, feats, hedge_list\n",
    "    else:\n",
    "        return edges"
   ]
  },
  {
   "cell_type": "code",
   "execution_count": 61,
   "id": "b2c85fd0",
   "metadata": {},
   "outputs": [
    {
     "name": "stdout",
     "output_type": "stream",
     "text": [
      "192\n",
      "(2, 792)\n",
      "(array([[ 0,  0,  0, ..., 79, 79, 79],\n",
      "       [12, 13, 14, ..., 66, 67, 75]]), ([[0, 1, 2, 3, 4, 5, 6, 7, 8, 9, 10, 11], [[0, 0, 0, 0, 0, 0, 0, 1, 0, 0, 0, 0, 0, 0, 0, 0, 0, 0, 0, 0, 0, 0, 1, 0, 0, 0, 0, 0, 0, 1, 0, 0, 0, 0, 0, 0, 0, 0, 0, 0, 1, 0, 0, 0, 0, 0, 0, 0, 0, 0, 0, 0, 1, 0, 0, 0, 0, 0, 0, 0, 0, 1, 0, 0, 0, 0, 0, 0, 0, 0, 0, 0, 0, 0, 0, 0, 0, 0, 0, 0, 1, 0, 0, 1, 0, 0, 0, 0, 0, 0, 0, 0], [0, 0, 0, 0, 0, 0, 0, 1, 0, 0, 0, 0, 0, 0, 0, 0, 0, 0, 0, 0, 0, 0, 1, 0, 0, 0, 0, 0, 0, 1, 0, 0, 0, 0, 0, 0, 0, 0, 0, 0, 1, 0, 0, 0, 0, 0, 0, 0, 0, 0, 0, 0, 1, 0, 0, 0, 0, 0, 0, 0, 0, 1, 0, 0, 0, 0, 0, 0, 0, 0, 0, 0, 0, 0, 0, 0, 0, 0, 0, 0, 1, 0, 0, 1, 0, 0, 0, 0, 0, 0, 0, 0], [0, 0, 0, 0, 0, 0, 0, 1, 0, 0, 0, 0, 0, 0, 0, 0, 0, 0, 0, 0, 0, 0, 1, 0, 0, 0, 0, 0, 0, 1, 0, 0, 0, 0, 0, 0, 0, 0, 0, 0, 1, 0, 0, 0, 0, 0, 0, 0, 0, 0, 0, 0, 1, 0, 0, 0, 0, 0, 0, 0, 0, 1, 0, 0, 0, 0, 0, 0, 0, 0, 0, 0, 0, 0, 0, 0, 0, 0, 0, 0, 1, 0, 0, 1, 0, 0, 0, 0, 0, 0, 0, 0], [0, 0, 0, 0, 0, 0, 0, 1, 0, 0, 0, 0, 0, 0, 0, 0, 0, 0, 0, 0, 0, 0, 1, 0, 0, 0, 0, 0, 0, 1, 0, 0, 0, 0, 0, 0, 0, 0, 0, 0, 1, 0, 0, 0, 0, 0, 0, 0, 0, 0, 0, 0, 1, 0, 0, 0, 0, 0, 0, 0, 0, 1, 0, 0, 0, 0, 0, 0, 0, 0, 0, 0, 0, 0, 0, 0, 0, 0, 0, 0, 1, 0, 0, 1, 0, 0, 0, 0, 0, 0, 0, 0], [0, 0, 0, 0, 0, 0, 0, 0, 0, 0, 0, 0, 0, 0, 0, 0, 1, 0, 0, 0, 0, 1, 0, 0, 0, 0, 0, 0, 0, 0, 0, 1, 0, 0, 0, 0, 0, 0, 0, 1, 0, 0, 0, 0, 0, 0, 0, 0, 0, 0, 0, 1, 0, 0, 0, 0, 0, 0, 0, 0, 0, 0, 0, 1, 0, 0, 0, 0, 0, 0, 0, 0, 0, 0, 0, 1, 0, 0, 0, 1, 0, 0, 0, 0, 0, 0, 1, 0, 0, 0, 0, 0], [0, 0, 0, 0, 0, 0, 0, 0, 0, 0, 0, 0, 0, 0, 0, 0, 1, 0, 0, 0, 0, 1, 0, 0, 0, 0, 0, 0, 0, 0, 0, 1, 0, 0, 0, 0, 0, 0, 0, 1, 0, 0, 0, 0, 0, 0, 0, 0, 0, 0, 0, 1, 0, 0, 0, 0, 0, 0, 0, 0, 0, 0, 0, 1, 0, 0, 0, 0, 0, 0, 0, 0, 0, 0, 0, 1, 0, 0, 0, 1, 0, 0, 0, 0, 0, 0, 1, 0, 0, 0, 0, 0], [0, 0, 0, 0, 0, 0, 0, 0, 0, 0, 0, 0, 0, 0, 0, 0, 1, 0, 0, 0, 0, 1, 0, 0, 0, 0, 0, 0, 0, 0, 0, 1, 0, 0, 0, 0, 0, 0, 0, 1, 0, 0, 0, 0, 0, 0, 0, 0, 0, 0, 0, 1, 0, 0, 0, 0, 0, 0, 0, 0, 0, 0, 0, 1, 0, 0, 0, 0, 0, 0, 0, 0, 0, 0, 0, 1, 0, 0, 0, 1, 0, 0, 0, 0, 0, 0, 1, 0, 0, 0, 0, 0], [0, 0, 0, 0, 0, 0, 0, 0, 0, 0, 0, 0, 0, 0, 0, 0, 1, 0, 0, 0, 0, 1, 0, 0, 0, 0, 0, 0, 0, 0, 0, 1, 0, 0, 0, 0, 0, 0, 0, 1, 0, 0, 0, 0, 0, 0, 0, 0, 0, 0, 0, 1, 0, 0, 0, 0, 0, 0, 0, 0, 0, 0, 0, 1, 0, 0, 0, 0, 0, 0, 0, 0, 0, 0, 0, 1, 0, 0, 0, 1, 0, 0, 0, 0, 0, 0, 1, 0, 0, 0, 0, 0], [0, 0, 0, 0, 0, 0, 0, 0, 0, 0, 0, 0, 0, 0, 0, 0, 1, 0, 0, 0, 0, 1, 0, 0, 0, 0, 0, 0, 0, 0, 0, 1, 0, 0, 0, 0, 0, 0, 0, 1, 0, 0, 0, 0, 0, 0, 0, 0, 0, 0, 0, 1, 0, 0, 0, 0, 0, 0, 0, 0, 0, 0, 0, 1, 0, 0, 0, 0, 0, 0, 0, 0, 0, 0, 0, 1, 0, 0, 0, 1, 0, 0, 0, 0, 0, 0, 1, 0, 0, 0, 0, 0], [0, 0, 0, 0, 0, 0, 0, 0, 0, 0, 0, 0, 0, 0, 0, 0, 1, 0, 0, 0, 0, 1, 0, 0, 0, 0, 0, 0, 0, 0, 0, 1, 0, 0, 0, 0, 0, 0, 0, 1, 0, 0, 0, 0, 0, 0, 0, 0, 0, 0, 0, 1, 0, 0, 0, 0, 0, 0, 0, 0, 0, 0, 0, 1, 0, 0, 0, 0, 0, 0, 0, 0, 0, 0, 0, 1, 0, 0, 0, 1, 0, 0, 0, 0, 0, 0, 1, 0, 0, 0, 0, 0], [0, 0, 0, 0, 0, 0, 0, 0, 0, 0, 0, 0, 0, 0, 0, 0, 1, 0, 0, 0, 0, 1, 0, 0, 0, 0, 0, 0, 0, 0, 0, 1, 0, 0, 0, 0, 0, 0, 0, 1, 0, 0, 0, 0, 0, 0, 0, 0, 0, 0, 0, 1, 0, 0, 0, 0, 0, 0, 0, 0, 0, 0, 0, 1, 0, 0, 0, 0, 0, 0, 0, 0, 0, 0, 0, 1, 0, 0, 0, 1, 0, 0, 0, 0, 0, 0, 1, 0, 0, 0, 0, 0], [0, 0, 0, 0, 0, 0, 0, 0, 0, 0, 0, 0, 0, 0, 0, 0, 1, 0, 0, 0, 0, 1, 0, 0, 0, 0, 0, 0, 0, 0, 0, 1, 0, 0, 0, 0, 0, 0, 0, 1, 0, 0, 0, 0, 0, 0, 0, 0, 0, 0, 0, 1, 0, 0, 0, 0, 0, 0, 0, 0, 0, 0, 0, 1, 0, 0, 0, 0, 0, 0, 0, 0, 0, 0, 0, 1, 0, 0, 0, 1, 0, 0, 0, 0, 0, 0, 1, 0, 0, 0, 0, 0]], [array([2.7616000e+00, 2.7616000e+00, 3.3819846e-16]), array([2.7616, 0.    , 2.7616]), array([4.44099151e-16, 2.76160000e+00, 2.76160000e+00]), array([0., 0., 0.]), array([0.65836544, 4.86483456, 2.10323456]), array([4.86483456, 2.10323456, 0.65836544]), array([2.10323456, 0.65836544, 4.86483456]), array([3.41996544, 3.41996544, 3.41996544]), array([4.86483456, 0.65836544, 3.41996544]), array([0.65836544, 3.41996544, 4.86483456]), array([3.41996544, 4.86483456, 0.65836544]), array([2.10323456, 2.10323456, 2.10323456])]], [[12, 13, 14, 15, 16, 17, 18, 19, 20, 21, 22, 23, 24, 25, 26, 27, 28, 29, 30, 31, 32, 33, 34, 35, 36, 37, 38, 39, 40, 41, 42, 43, 44, 45, 46, 47, 48, 49, 50, 51, 52, 53, 54, 55, 56, 57, 58, 59, 60, 61, 62, 63, 64, 65, 66, 67], [[4.1871975449302247e-10, 2.8937889790041914e-05, 0.03662961367938433, 0.8492193684981157, 0.36060314951808503], [4.1871975449302247e-10, 2.8937889790041914e-05, 0.03662961367938433, 0.8492193684981157, 0.36060314951808503], [4.187197544930254e-10, 2.8937889790042117e-05, 0.03662961367938444, 0.8492193684981164, 0.36060314951808436], [4.1871975449302247e-10, 2.8937889790041914e-05, 0.03662961367938433, 0.8492193684981157, 0.36060314951808503], [4.1871975449301203e-10, 2.893788979004145e-05, 0.03662961367938397, 0.8492193684981139, 0.36060314951808703], [4.187197544930254e-10, 2.8937889790042117e-05, 0.03662961367938444, 0.8492193684981164, 0.36060314951808436], [4.187197544930254e-10, 2.8937889790042117e-05, 0.03662961367938444, 0.8492193684981164, 0.36060314951808436], [4.187197544930284e-10, 2.8937889790042273e-05, 0.03662961367938456, 0.849219368498117, 0.3606031495180837], [4.1871975449301503e-10, 2.8937889790041605e-05, 0.03662961367938409, 0.8492193684981145, 0.3606031495180863], [4.187197544930284e-10, 2.8937889790042273e-05, 0.03662961367938456, 0.849219368498117, 0.3606031495180837], [4.1871975449302247e-10, 2.8937889790041914e-05, 0.03662961367938433, 0.8492193684981157, 0.36060314951808503], [4.1871975449301503e-10, 2.8937889790041605e-05, 0.03662961367938409, 0.8492193684981145, 0.3606031495180863], [4.187197544930254e-10, 2.8937889790042117e-05, 0.03662961367938444, 0.8492193684981164, 0.36060314951808436], [4.1871975449302247e-10, 2.8937889790041914e-05, 0.03662961367938433, 0.8492193684981157, 0.36060314951808503], [4.1871975449302247e-10, 2.8937889790041914e-05, 0.03662961367938433, 0.8492193684981157, 0.36060314951808503], [4.1871975449302247e-10, 2.8937889790041914e-05, 0.03662961367938433, 0.8492193684981157, 0.36060314951808503], [4.1871975449301503e-10, 2.8937889790041605e-05, 0.03662961367938409, 0.8492193684981145, 0.3606031495180863], [4.1871975449301503e-10, 2.8937889790041605e-05, 0.03662961367938409, 0.8492193684981145, 0.3606031495180863], [4.187197544930284e-10, 2.8937889790042273e-05, 0.03662961367938456, 0.849219368498117, 0.3606031495180837], [4.187197544930284e-10, 2.8937889790042273e-05, 0.03662961367938456, 0.849219368498117, 0.3606031495180837], [4.1871975449302247e-10, 2.8937889790041914e-05, 0.03662961367938433, 0.8492193684981157, 0.36060314951808503], [4.187197544930254e-10, 2.8937889790042117e-05, 0.03662961367938444, 0.8492193684981164, 0.36060314951808436], [4.1871975449302247e-10, 2.8937889790041914e-05, 0.03662961367938433, 0.8492193684981157, 0.36060314951808503], [4.187197544930254e-10, 2.8937889790042117e-05, 0.03662961367938444, 0.8492193684981164, 0.36060314951808436], [6.02482944207609e-10, 3.725569084487235e-05, 0.042195152189567174, 0.8752952397509999, 0.33255895584447204], [4.187197544930254e-10, 2.8937889790042117e-05, 0.03662961367938444, 0.8492193684981164, 0.36060314951808436], [4.1871975449302247e-10, 2.8937889790041914e-05, 0.03662961367938433, 0.8492193684981157, 0.36060314951808503], [4.1871975449302247e-10, 2.8937889790041914e-05, 0.03662961367938433, 0.8492193684981157, 0.36060314951808503], [4.187197544930254e-10, 2.8937889790042117e-05, 0.03662961367938444, 0.8492193684981164, 0.36060314951808436], [4.1871975449302247e-10, 2.8937889790041914e-05, 0.03662961367938433, 0.8492193684981157, 0.36060314951808503], [6.024829442075984e-10, 3.725569084487195e-05, 0.04219515218956691, 0.8752952397509988, 0.3325589558444732], [4.187197544930254e-10, 2.8937889790042117e-05, 0.03662961367938444, 0.8492193684981164, 0.36060314951808436], [4.1871975449302247e-10, 2.8937889790041914e-05, 0.03662961367938433, 0.8492193684981157, 0.36060314951808503], [6.024829442075984e-10, 3.725569084487195e-05, 0.04219515218956691, 0.8752952397509988, 0.3325589558444732], [4.18719754493018e-10, 2.8937889790041758e-05, 0.03662961367938422, 0.8492193684981151, 0.36060314951808564], [4.1871975449302247e-10, 2.8937889790041914e-05, 0.03662961367938433, 0.8492193684981157, 0.36060314951808503], [6.02482944207609e-10, 3.725569084487235e-05, 0.042195152189567174, 0.8752952397509999, 0.33255895584447204], [4.187197544930254e-10, 2.8937889790042117e-05, 0.03662961367938444, 0.8492193684981164, 0.36060314951808436], [4.1871975449302247e-10, 2.8937889790041914e-05, 0.03662961367938433, 0.8492193684981157, 0.36060314951808503], [4.18719754493018e-10, 2.8937889790041758e-05, 0.03662961367938422, 0.8492193684981151, 0.36060314951808564], [4.18719754493018e-10, 2.8937889790041758e-05, 0.03662961367938422, 0.8492193684981151, 0.36060314951808564], [6.02482944207609e-10, 3.725569084487235e-05, 0.042195152189567174, 0.8752952397509999, 0.33255895584447204], [4.187197544930254e-10, 2.8937889790042117e-05, 0.03662961367938444, 0.8492193684981164, 0.36060314951808436], [4.18719754493018e-10, 2.8937889790041758e-05, 0.03662961367938422, 0.8492193684981151, 0.36060314951808564], [6.024829442075898e-10, 3.725569084487155e-05, 0.04219515218956663, 0.8752952397509977, 0.3325589558444745], [4.18719754493018e-10, 2.8937889790041758e-05, 0.03662961367938422, 0.8492193684981151, 0.36060314951808564], [4.1871975449302247e-10, 2.8937889790041914e-05, 0.03662961367938433, 0.8492193684981157, 0.36060314951808503], [4.187197544930254e-10, 2.8937889790042117e-05, 0.03662961367938444, 0.8492193684981164, 0.36060314951808436], [6.024829442075984e-10, 3.725569084487195e-05, 0.04219515218956691, 0.8752952397509988, 0.3325589558444732], [4.1871975449302247e-10, 2.8937889790041914e-05, 0.03662961367938433, 0.8492193684981157, 0.36060314951808503], [4.187197544930254e-10, 2.8937889790042117e-05, 0.03662961367938444, 0.8492193684981164, 0.36060314951808436], [4.1871975449302247e-10, 2.8937889790041914e-05, 0.03662961367938433, 0.8492193684981157, 0.36060314951808503], [4.187197544930254e-10, 2.8937889790042117e-05, 0.03662961367938444, 0.8492193684981164, 0.36060314951808436], [4.187197544930254e-10, 2.8937889790042117e-05, 0.03662961367938444, 0.8492193684981164, 0.36060314951808436], [4.1871975449302247e-10, 2.8937889790041914e-05, 0.03662961367938433, 0.8492193684981157, 0.36060314951808503], [6.024829442075984e-10, 3.725569084487195e-05, 0.04219515218956691, 0.8752952397509988, 0.3325589558444732]]], [[68, 69, 70, 71, 72, 73, 74, 75, 76, 77, 78, 79], [[6.0, 2.220446049250313e-16, 7.121562665051939e-05, 0.0008384951159906882, 0.028653472314188584, 1.0658041506816435e-205, 0.14243183801701953, 0.3934481096907446, 0.030746076199275815, 0.389181844384812, 6.315412975334043e-31, 0.007254860759403706, 0.1562813946707834, 0.5113057454736281, 0.5814634668618692, 0.11932998001665218, 0.49161942485188304, 0.5308165961703892, 0.20006814693155736, 0.023694994598985445, 0.5354550624747225, 0.43823066521432336, 0.5223879964881926, 0.42443864403871856, 0.43036784535257916, 0.29334660406606244, 0.46704357385544876, 0.4068229648171845, 0.01447498552276311, 0.4058885720384663, 0.5165345556934031, 0.2803649979112953, 0.5308165961703892, 0.21853026521726338, 0.3604484545887907], [6.0, 2.220446049250313e-16, 7.121562665051933e-05, 0.0008384951159906862, 0.02865347231418853, 1.065804150680239e-205, 0.14243183801701953, 0.39344810969074484, 0.030746076199275812, 0.3891818443848119, 6.315412975331374e-31, 0.007254860759403692, 0.1562813946707832, 0.511305745473628, 0.5814634668618692, 0.11932998001665236, 0.4916194248518829, 0.5308165961703892, 0.20006814693155733, 0.023694994598985452, 0.5354550624747223, 0.4382306652143231, 0.5223879964881923, 0.4244386440387184, 0.43036784535257916, 0.29334660406606244, 0.4670435738554491, 0.40682296481718483, -0.04704072255489531, 0.40588857203846623, 0.516534555693403, 0.28036499791129543, 0.5308165961703892, 0.21853026521726332, 0.3604484545887907], [6.0, 0.0, 7.121562665051935e-05, 0.0008384951159906864, 0.028653472314188532, 1.0658041506816775e-205, 0.14243183801701953, 0.39344810969074484, 0.030746076199275822, 0.38918184438481185, 6.3154129753340236e-31, 0.007254860759403693, 0.15628139467078322, 0.5113057454736281, 0.5814634668618693, 0.11932998001665247, 0.49161942485188304, 0.5308165961703895, 0.20006814693155736, 0.02369499459898546, 0.5354550624747226, 0.4382306652143234, 0.5223879964881927, 0.42443864403871867, 0.43036784535257916, 0.29334660406606244, 0.46704357385544915, 0.406822964817185, 0.052730318609755945, 0.4058885720384662, 0.516534555693403, 0.2803649979112954, 0.5308165961703895, 0.21853026521726338, 0.36044845458879077], [6.0, 0.0, 5.0737790194197894e-08, 3.607521703721489e-10, 1.1736874155778665e-07, 7.684526349275723e-08, 0.00436157565120743, 0.011663465661559147, 0.02960264571345096, 0.24519748536485855, 0.8213257105028298, 5.171821984592168e-09, 5.507017203011783e-06, 0.022954387012687004, 0.024386556684867156, 8.595871867916666e-07, 0.015769801401406058, 0.008733090745125408, 0.0030657001728878076, -0.135922679846974, 0.03106645416509108, 0.0459448592336491, 0.023801741981069748, 0.03436459549982614, 0.02613276671630201, None, 0.0, 0.00015981653516708002, -0.16636637501801502, 0.5683541974589185, 0.08224255655181938, 0.39988588093847355, 0.008733090745125408, 0.4240255740129923, 0.25836088416704683], [4.0, 0.5693294465642103, 3.001484381461032e-08, 1.6903636233953986e-10, 6.829979586250293e-08, 1.847003664816866e-40, 0.0034976194872580178, 0.011635316238233486, 0.013870178727421053, 0.2983709747934636, 1.988635900050795e-46, 1.0911563238146703e-09, 3.3067282194329673e-06, 0.022728475000750883, 0.02613867346026109, 1.244327472592953e-12, 0.014903266993083955, 0.00804054905599565, 0.003184760892376615, -0.1594163466970335, 0.04243940180612396, 0.0788566805068112, 0.03085561543188677, 0.055678999497590975, 0.028456829323924404, None, 0.0, 7.615415978003847e-05, -0.015010270062544635, 0.6606259753567809, 0.3213406686981791, 0.47290534735716727, 0.00804054905599565, 0.5417567291273202, 0.3479520016091086], [4.0, 0.5693294465642104, 3.001484381461032e-08, 1.6903636233953973e-10, 6.829979586250293e-08, 1.8470036648165837e-40, 0.0034976194872580178, 0.01163531623823349, 0.013870178727421046, 0.2983709747934637, 1.9886359000505215e-46, 1.091156323814668e-09, 3.3067282194329673e-06, 0.022728475000750908, 0.02613867346026109, 1.244327472592953e-12, 0.014903266993083954, 0.00804054905599565, 0.0031847608923766153, -0.15941634669703353, 0.04243940180612397, 0.07885668050681124, 0.030855615431886776, 0.055678999497591, 0.028456829323924418, None, 0.0, 7.615415978003847e-05, 0.07066793197623972, 0.6606259753567807, 0.32134066869817896, 0.4729053473571675, 0.00804054905599565, 0.5417567291273204, 0.34795200160910866], [4.0, 0.5693294465642104, 3.0014843814610426e-08, 1.6903636233954042e-10, 6.829979586250357e-08, 1.847003664816866e-40, 0.0034976194872580295, 0.011635316238233528, 0.013870178727421079, 0.2983709747934639, 1.9886359000506677e-46, 1.0911563238146782e-09, 3.3067282194329956e-06, 0.02272847500075094, 0.026138673460261202, 1.2443274725930041e-12, 0.014903266993084018, 0.00804054905599569, 0.0031847608923766236, -0.15941634669703345, 0.042439401806124065, 0.07885668050681134, 0.030855615431886852, 0.05567899949759109, 0.028456829323924477, None, 0.0, 7.615415978003929e-05, 0.005739497026515765, 0.660625975356781, 0.321340668698179, 0.4729053473571667, 0.00804054905599569, 0.5417567291273199, 0.34795200160910883], [4.0, 0.35655706042096114, 1.7988016678029108e-07, 2.5180738300599918e-09, 6.84274388913285e-07, 4.2278232473260625e-18, 0.012391879343267728, 0.0321152617986132, 0.016711919157253115, 0.36775820426018724, 1.925435118932782e-40, 1.0183484126515565e-07, 2.560351994751594e-05, 0.05138212503985909, 0.09089658820888231, 3.007116595328051e-06, 0.038376833287174096, 0.0391363354739932, 0.01352575621608715, -0.07948866368450007, 0.13788562198672905, 0.14422322788161754, 0.11020491685411327, 0.11372796270583053, 0.0587432516796334, None, 0.0, 0.0013785052339543643, -0.0913066504887047, 0.544710541774544, 0.3122436654515353, 0.47995378614075956, 0.0391363354739932, 0.27717298672209617, 0.5685475277539379], [4.0, 0.5693294465642103, 1.1320789972812476e-08, 8.614484259423853e-12, 1.619869683741902e-08, 4.7468870154026e-33, 0.0015268339554715884, 0.004993786245008492, 0.005727154212766892, 0.18290954826617886, 1.8094870619301138e-29, 1.6667946794497265e-10, 9.536183202686386e-07, 0.013900090086743535, 0.017563190709598542, 2.492689944294646e-10, 0.00840121325177875, 0.004190176663171054, 0.0010800499354018977, -0.15345359905045955, 0.02658343409353584, 0.041371207272032605, 0.018147496700421435, 0.027748787141113906, 0.014191726050714273, None, 0.0, 1.6294090494133715e-05, 0.0036988545182936325, 0.7311428048036285, 0.43324727817551667, 0.48301026107305345, 0.004190176663171054, 0.49832171790748875, 0.3409683633878497], [4.0, 0.5693294465642104, 1.1320789972812476e-08, 8.614484259423804e-12, 1.6198696837419018e-08, 4.7468870154032836e-33, 0.0015268339554715881, 0.00499378624500849, 0.005727154212766876, 0.18290954826617875, 1.8094870619300087e-29, 1.666794679449716e-10, 9.536183202686386e-07, 0.013900090086743531, 0.017563190709598536, 2.492689944294553e-10, 0.008401213251778748, 0.004190176663171053, 0.0010800499354018977, -0.15345359905045952, 0.02658343409353583, 0.04137120727203259, 0.018147496700421428, 0.027748787141113895, 0.014191726050714268, None, 0.0, 1.6294090494133715e-05, 0.008313798146605043, 0.731142804803629, 0.4332472781755168, 0.48301026107305295, 0.004190176663171053, 0.4983217179074884, 0.3409683633878495], [4.0, 0.5693294465642104, 1.1320789972812392e-08, 8.614484259423744e-12, 1.619869683741896e-08, 4.7468870154030305e-33, 0.001526833955471582, 0.004993786245008475, 0.0057271542127668535, 0.18290954826617845, 1.8094870619301412e-29, 1.6667946794496996e-10, 9.536183202686336e-07, 0.013900090086743498, 0.01756319070959852, 2.492689944294531e-10, 0.008401213251778727, 0.0041901766631710375, 0.001080049935401894, -0.15345359905045955, 0.026583434093535783, 0.04137120727203253, 0.018147496700421387, 0.027748787141113878, 0.014191726050714233, None, 0.0, 1.629409049413357e-05, 0.0008904294184586826, 0.7311428048036287, 0.4332472781755167, 0.48301026107305334, 0.0041901766631710375, 0.4983217179074881, 0.34096836338784925], [4.0, 0.008460831025806304, 0.004852568198652199, 0.17196545620740677, 0.5127873639545493, 3.2437840451587373e-122, 0.05226542534171497, 0.26715052246973997, 9.461366914806974e-05, 0.0065213437634275015, 6.1740971291839535e-143, 0.5984970952104333, 0.717559334524316, 0.6183717144432119, 0.32067724255509417, 0.1646123109238526, 0.5761945874861115, 0.2614870800882709, 0.11996624772717035, -0.010266485603595095, 0.3415851171367719, 0.7315368747540348, 0.32354338186585196, 0.6907015698459968, 0.309185857221606, 0.5305680035053638, 0.8046000752612651, 0.1162921833906853, 0.4746721385692395, 0.08115326705489001, 0.5168499396954169, 0.5830373629634626, 0.2614870800882709, 0.4725769227352461, 0.08993158087506753]]]), [[0, 1, 2, 3, 4, 5, 6, 7, 8, 9, 10, 11, 0, 6, 0, 11, 0, 9, 0, 7, 0, 10, 0, 5, 1, 4, 1, 11, 1, 6, 1, 10, 1, 7, 1, 8, 2, 5, 2, 8, 2, 7, 2, 11, 2, 9, 2, 4, 3, 10, 3, 8, 3, 5, 3, 9, 3, 4, 3, 6, 4, 8, 4, 2, 4, 3, 4, 1, 5, 0, 5, 3, 5, 9, 5, 2, 6, 3, 6, 10, 6, 1, 6, 0, 7, 11, 7, 0, 7, 1, 7, 2, 8, 1, 8, 4, 8, 3, 8, 2, 9, 5, 9, 2, 9, 3, 9, 0, 10, 6, 10, 0, 10, 1, 10, 3, 11, 2, 11, 1, 11, 0, 11, 7, 6, 11, 9, 7, 10, 5, 0, 4, 11, 6, 10, 7, 8, 1, 5, 8, 7, 11, 9, 4, 2, 10, 8, 5, 9, 4, 6, 3, 8, 2, 3, 1, 4, 0, 3, 9, 2, 5, 3, 10, 1, 0, 6, 11, 0, 1, 2, 7, 1, 4, 3, 2, 8, 5, 2, 3, 0, 9, 6, 0, 1, 3, 10, 2, 1, 0, 7, 11], [0, 1, 2, 3, 4, 5, 6, 7, 8, 9, 10, 11, 12, 12, 13, 13, 14, 14, 15, 15, 16, 16, 17, 17, 18, 18, 19, 19, 20, 20, 21, 21, 22, 22, 23, 23, 24, 24, 25, 25, 26, 26, 27, 27, 28, 28, 29, 29, 30, 30, 31, 31, 32, 32, 33, 33, 34, 34, 35, 35, 36, 36, 37, 37, 38, 38, 39, 39, 40, 40, 41, 41, 42, 42, 43, 43, 44, 44, 45, 45, 46, 46, 47, 47, 48, 48, 49, 49, 50, 50, 51, 51, 52, 52, 53, 53, 54, 54, 55, 55, 56, 56, 57, 57, 58, 58, 59, 59, 60, 60, 61, 61, 62, 62, 63, 63, 64, 64, 65, 65, 66, 66, 67, 67, 68, 68, 68, 68, 68, 68, 68, 69, 69, 69, 69, 69, 69, 69, 70, 70, 70, 70, 70, 70, 70, 71, 71, 71, 71, 71, 71, 71, 72, 72, 72, 72, 72, 73, 73, 73, 73, 73, 74, 74, 74, 74, 74, 75, 75, 75, 75, 75, 76, 76, 76, 76, 76, 77, 77, 77, 77, 77, 78, 78, 78, 78, 78, 79, 79, 79, 79, 79]])\n"
     ]
    }
   ],
   "source": [
    "hedge_list, feats = cif2hedges('./test_cif.cif', features = True, tol = 0.1)\n",
    "print(len(hedge_list[0]))\n",
    "relative = relatives(hedge_packer(hedge_list))\n",
    "edges = np.array(relatives2graphedges(relative))\n",
    "print(edges.shape)\n",
    "print(cif2reledges('test_cif.cif', features = True))"
   ]
  },
  {
   "cell_type": "code",
   "execution_count": 63,
   "id": "a2ebe34a",
   "metadata": {},
   "outputs": [],
   "source": [
    "from torch_geometric.data import HeteroData\n",
    "data = HeteroData()\n",
    "data['singletons'].x = np.array(feats[0][1])\n",
    "data['pairs'].x = np.array(feats[1][1])\n",
    "data['motifs'].x = np.array(feats[2][1])\n",
    "data['singletons','pairs','motifs'].edge_index = edges"
   ]
  },
  {
   "cell_type": "code",
   "execution_count": 64,
   "id": "4dc8f9f8",
   "metadata": {},
   "outputs": [],
   "source": [
    "from torch_geometric.data import Data\n",
    "data = Data()\n",
    "data.x = np.array(feats[0][1])\n",
    "data.x = np.array(feats[1][1])\n",
    "data.x = np.array(feats[2][1])\n",
    "data.edge_index = edges"
   ]
  },
  {
   "cell_type": "code",
   "execution_count": 20,
   "id": "e4844931",
   "metadata": {},
   "outputs": [
    {
     "name": "stdout",
     "output_type": "stream",
     "text": [
      "{}\n"
     ]
    }
   ],
   "source": [
    "print(data.x_index_dict)"
   ]
  },
  {
   "cell_type": "code",
   "execution_count": null,
   "id": "fc9f0a0f",
   "metadata": {},
   "outputs": [],
   "source": [
    "## Load data objects with relative edges defined already\n",
    "###### save regular graph data to file in list\n",
    "## Load heterogeneous features\n",
    "###### save feature list as independent object to graph data file\n",
    "## Feed features into projection layer\n",
    "###### load feature list in network structure\n",
    "## Associate homogenized features with data\n",
    "###### set data.x after projection in network structure\n",
    "## Associate labels with data\n",
    "###### set data.y in network structure\n",
    "## Pass to convolutional layers\n"
   ]
  },
  {
   "cell_type": "code",
   "execution_count": 38,
   "id": "007910dc",
   "metadata": {},
   "outputs": [],
   "source": [
    "try:\n",
    "    import cPickle as pickle\n",
    "except ModuleNotFoundError:\n",
    "    import pickle\n",
    "\n",
    "\n",
    "with open('graph_list.pkl', 'wb') as storage:\n",
    "    pickle.dump(hedge_list, storage, pickle.HIGHEST_PROTOCOL)\n",
    "    pickle.dump(relative, storage, pickle.HIGHEST_PROTOCOL)\n",
    "    pickle.dump(feats, storage, pickle.HIGHEST_PROTOCOL)\n",
    "    \n",
    "del hedge_list\n",
    "del relative\n",
    "del feats"
   ]
  },
  {
   "cell_type": "code",
   "execution_count": 40,
   "id": "db394162",
   "metadata": {},
   "outputs": [],
   "source": [
    "try:\n",
    "    import cPickle as pickle\n",
    "except ModuleNotFoundError:\n",
    "    import pickle\n",
    "\n",
    "with open('graph_list.pkl', 'rb') as storage:\n",
    "    hedge_list = pickle.load(storage)\n",
    "    relative =  pickle.load(storage)\n",
    "    feats = pickle.load(storage)"
   ]
  },
  {
   "cell_type": "code",
   "execution_count": 95,
   "id": "4362860a",
   "metadata": {},
   "outputs": [],
   "source": [
    "from torch_geometric.data import Data\n",
    "import csv\n",
    "import os\n",
    "\n",
    "def relgraph_list_from_dir(directory='cif', root='', atom_vecs = True, radius:float=3.0):\n",
    "    if root == '':\n",
    "        root = os. getcwd()\n",
    "    directory = root+'\\\\'+directory\n",
    "    print(f'Searching {directory} for CIF data to convert to hgraphs')\n",
    "    with open(f'{directory}\\\\id_prop.csv') as id_prop:\n",
    "        id_prop = csv.reader(id_prop)\n",
    "        id_prop_data = [row for row in id_prop]\n",
    "    relgraphs = []\n",
    "    hedges = []\n",
    "    feats_list = []\n",
    "\n",
    "    for filename, fileprop in id_prop_data:\n",
    "            try:\n",
    "                file = directory+'\\\\'+filename+'.cif'\n",
    "                edges, feats, hedge_list = cif2reledges(file, radius=radius, features = True)\n",
    "                graph = Data()\n",
    "                graph.edge_index = torch.tensor(edges, dtype = int)\n",
    "                graph.y = torch.tensor(float(fileprop))\n",
    "                relgraphs.append(graph)\n",
    "                hedges.append(hedge_list)\n",
    "                feats_list.append(feats)\n",
    "                print(f'Added {filename} to relgraph set')\n",
    "            except:\n",
    "                print(f'Error with {filename}, confirm existence')\n",
    "                \n",
    "    print('Done generating relatives graph data with features')\n",
    "    return relgraphs, feats_list, hedges"
   ]
  },
  {
   "cell_type": "code",
   "execution_count": 96,
   "id": "15b1e6c6",
   "metadata": {},
   "outputs": [
    {
     "name": "stdout",
     "output_type": "stream",
     "text": [
      "Searching C:\\Users\\ajh01\\Desktop\\chgcnn\\cif for CIF data to convert to hgraphs\n",
      "Added mp-1 to relgraph set\n",
      "Added mp-2 to relgraph set\n",
      "Added mp-4 to relgraph set\n",
      "Added mp-9 to relgraph set\n",
      "Added mp-10 to relgraph set\n",
      "Added mp-13 to relgraph set\n",
      "Done generating relatives graph data with features\n"
     ]
    }
   ],
   "source": [
    "relgraph_list = relgraph_list_from_dir(directory='cif', root='', atom_vecs = True)\n",
    "\n",
    "\n",
    "with open('relgraph_list.pkl', 'wb') as storage:\n",
    "    pickle.dump(relgraph_list, storage, pickle.HIGHEST_PROTOCOL)\n",
    "    \n",
    "del relgraph_list"
   ]
  },
  {
   "cell_type": "code",
   "execution_count": 162,
   "id": "8ead6e44",
   "metadata": {},
   "outputs": [],
   "source": [
    "with open('relgraph_list.pkl', 'rb') as storage:\n",
    "    relgraphs, feats_list, hedges = pickle.load(storage)"
   ]
  },
  {
   "cell_type": "code",
   "execution_count": 196,
   "id": "a7398b75",
   "metadata": {},
   "outputs": [
    {
     "data": {
      "text/plain": [
       "tensor([[-0.1567,  0.1008, -0.2885,  0.1977,  0.0321, -0.2686, -0.1807, -0.0601,\n",
       "          0.0832,  0.1999, -0.0798, -0.2872, -0.1723, -0.2098,  0.3836,  0.1426,\n",
       "         -0.0612, -0.2512, -0.0785, -0.1298, -0.1479,  0.0667,  0.3088, -0.0557,\n",
       "         -0.1801,  0.0283,  0.3386,  0.1750,  0.0057, -0.1860, -0.0488, -0.3855,\n",
       "         -0.0219, -0.0627,  0.2324,  0.0257, -0.0712,  0.0934, -0.2909, -0.4823,\n",
       "          0.0625, -0.1202,  0.0725,  0.2366, -0.0715, -0.0872, -0.0783, -0.0060,\n",
       "          0.2094,  0.0252, -0.0185,  0.0748,  0.1049, -0.0290, -0.3065,  0.1063,\n",
       "          0.0550, -0.4192, -0.1399,  0.0762, -0.0880,  0.1361,  0.0785,  0.1529],\n",
       "        [ 0.3927, -0.1792, -0.2581, -0.1792,  0.1945, -0.3664, -0.0551, -0.2715,\n",
       "          0.2714, -0.0291, -0.3146,  0.2764,  0.1113, -0.1643,  0.3655,  0.0948,\n",
       "         -0.1770,  0.4336, -0.2163, -0.1716,  0.1812,  0.4331,  0.3026, -0.3239,\n",
       "          0.2701, -0.1478,  0.0823, -0.0307, -0.0345,  0.2538,  0.2220,  0.0478,\n",
       "         -0.0484,  0.0449, -0.2541, -0.2443,  0.3020, -0.3778,  0.3752,  0.3885,\n",
       "         -0.1709, -0.0801,  0.0070, -0.4051, -0.0363,  0.1765,  0.2750, -0.4360,\n",
       "         -0.0954, -0.2618,  0.3750, -0.3483,  0.0710, -0.0912,  0.1743, -0.2716,\n",
       "          0.4082, -0.1723,  0.3004, -0.2842, -0.2495,  0.2875, -0.3938, -0.2433],\n",
       "        [ 0.3927, -0.1792, -0.2581, -0.1792,  0.1945, -0.3664, -0.0551, -0.2715,\n",
       "          0.2714, -0.0291, -0.3146,  0.2764,  0.1113, -0.1643,  0.3655,  0.0948,\n",
       "         -0.1770,  0.4336, -0.2163, -0.1716,  0.1812,  0.4331,  0.3026, -0.3239,\n",
       "          0.2701, -0.1478,  0.0823, -0.0307, -0.0345,  0.2538,  0.2220,  0.0478,\n",
       "         -0.0484,  0.0449, -0.2541, -0.2443,  0.3020, -0.3778,  0.3752,  0.3885,\n",
       "         -0.1709, -0.0801,  0.0070, -0.4051, -0.0363,  0.1765,  0.2750, -0.4360,\n",
       "         -0.0954, -0.2618,  0.3750, -0.3483,  0.0710, -0.0912,  0.1743, -0.2716,\n",
       "          0.4082, -0.1723,  0.3004, -0.2842, -0.2495,  0.2875, -0.3938, -0.2433],\n",
       "        [ 0.3927, -0.1792, -0.2581, -0.1792,  0.1945, -0.3664, -0.0551, -0.2715,\n",
       "          0.2714, -0.0291, -0.3146,  0.2764,  0.1113, -0.1643,  0.3655,  0.0948,\n",
       "         -0.1770,  0.4336, -0.2163, -0.1716,  0.1812,  0.4331,  0.3026, -0.3239,\n",
       "          0.2701, -0.1478,  0.0823, -0.0307, -0.0345,  0.2538,  0.2220,  0.0478,\n",
       "         -0.0484,  0.0449, -0.2541, -0.2443,  0.3020, -0.3778,  0.3752,  0.3885,\n",
       "         -0.1709, -0.0801,  0.0070, -0.4051, -0.0363,  0.1765,  0.2750, -0.4360,\n",
       "         -0.0954, -0.2618,  0.3750, -0.3483,  0.0710, -0.0912,  0.1743, -0.2716,\n",
       "          0.4082, -0.1723,  0.3004, -0.2842, -0.2495,  0.2875, -0.3938, -0.2433],\n",
       "        [ 0.3927, -0.1792, -0.2581, -0.1792,  0.1945, -0.3664, -0.0551, -0.2715,\n",
       "          0.2714, -0.0291, -0.3146,  0.2764,  0.1113, -0.1643,  0.3655,  0.0948,\n",
       "         -0.1770,  0.4336, -0.2163, -0.1716,  0.1812,  0.4331,  0.3026, -0.3239,\n",
       "          0.2701, -0.1478,  0.0823, -0.0307, -0.0345,  0.2538,  0.2220,  0.0478,\n",
       "         -0.0484,  0.0449, -0.2541, -0.2443,  0.3020, -0.3778,  0.3752,  0.3885,\n",
       "         -0.1709, -0.0801,  0.0070, -0.4051, -0.0363,  0.1765,  0.2750, -0.4360,\n",
       "         -0.0954, -0.2618,  0.3750, -0.3483,  0.0710, -0.0912,  0.1743, -0.2716,\n",
       "          0.4082, -0.1723,  0.3004, -0.2842, -0.2495,  0.2875, -0.3938, -0.2433],\n",
       "        [ 0.3927, -0.1792, -0.2581, -0.1792,  0.1945, -0.3664, -0.0551, -0.2715,\n",
       "          0.2714, -0.0291, -0.3146,  0.2764,  0.1113, -0.1643,  0.3655,  0.0948,\n",
       "         -0.1770,  0.4336, -0.2163, -0.1716,  0.1812,  0.4331,  0.3026, -0.3239,\n",
       "          0.2701, -0.1478,  0.0823, -0.0307, -0.0345,  0.2538,  0.2220,  0.0478,\n",
       "         -0.0484,  0.0449, -0.2541, -0.2443,  0.3020, -0.3778,  0.3752,  0.3885,\n",
       "         -0.1709, -0.0801,  0.0070, -0.4051, -0.0363,  0.1765,  0.2750, -0.4360,\n",
       "         -0.0954, -0.2618,  0.3750, -0.3483,  0.0710, -0.0912,  0.1743, -0.2716,\n",
       "          0.4082, -0.1723,  0.3004, -0.2842, -0.2495,  0.2875, -0.3938, -0.2433],\n",
       "        [ 0.3927, -0.1792, -0.2581, -0.1792,  0.1945, -0.3664, -0.0551, -0.2715,\n",
       "          0.2714, -0.0291, -0.3146,  0.2764,  0.1113, -0.1643,  0.3655,  0.0948,\n",
       "         -0.1770,  0.4336, -0.2163, -0.1716,  0.1812,  0.4331,  0.3026, -0.3239,\n",
       "          0.2701, -0.1478,  0.0823, -0.0307, -0.0345,  0.2538,  0.2220,  0.0478,\n",
       "         -0.0484,  0.0449, -0.2541, -0.2443,  0.3020, -0.3778,  0.3752,  0.3885,\n",
       "         -0.1709, -0.0801,  0.0070, -0.4051, -0.0363,  0.1765,  0.2750, -0.4360,\n",
       "         -0.0954, -0.2618,  0.3750, -0.3483,  0.0710, -0.0912,  0.1743, -0.2716,\n",
       "          0.4082, -0.1723,  0.3004, -0.2842, -0.2495,  0.2875, -0.3938, -0.2433],\n",
       "        [ 0.3927, -0.1792, -0.2581, -0.1792,  0.1945, -0.3664, -0.0551, -0.2715,\n",
       "          0.2714, -0.0291, -0.3146,  0.2764,  0.1113, -0.1643,  0.3655,  0.0948,\n",
       "         -0.1770,  0.4336, -0.2163, -0.1716,  0.1812,  0.4331,  0.3026, -0.3239,\n",
       "          0.2701, -0.1478,  0.0823, -0.0307, -0.0345,  0.2538,  0.2220,  0.0478,\n",
       "         -0.0484,  0.0449, -0.2541, -0.2443,  0.3020, -0.3778,  0.3752,  0.3885,\n",
       "         -0.1709, -0.0801,  0.0070, -0.4051, -0.0363,  0.1765,  0.2750, -0.4360,\n",
       "         -0.0954, -0.2618,  0.3750, -0.3483,  0.0710, -0.0912,  0.1743, -0.2716,\n",
       "          0.4082, -0.1723,  0.3004, -0.2842, -0.2495,  0.2875, -0.3938, -0.2433],\n",
       "        [ 0.3927, -0.1792, -0.2581, -0.1792,  0.1945, -0.3664, -0.0551, -0.2715,\n",
       "          0.2714, -0.0291, -0.3146,  0.2764,  0.1113, -0.1643,  0.3655,  0.0948,\n",
       "         -0.1770,  0.4336, -0.2163, -0.1716,  0.1812,  0.4331,  0.3026, -0.3239,\n",
       "          0.2701, -0.1478,  0.0823, -0.0307, -0.0345,  0.2538,  0.2220,  0.0478,\n",
       "         -0.0484,  0.0449, -0.2541, -0.2443,  0.3020, -0.3778,  0.3752,  0.3885,\n",
       "         -0.1709, -0.0801,  0.0070, -0.4051, -0.0363,  0.1765,  0.2750, -0.4360,\n",
       "         -0.0954, -0.2618,  0.3750, -0.3483,  0.0710, -0.0912,  0.1743, -0.2716,\n",
       "          0.4082, -0.1723,  0.3004, -0.2842, -0.2495,  0.2875, -0.3938, -0.2433],\n",
       "        [ 0.3970,  1.1810, -1.0293,  0.1711, -0.4862, -1.0581,  0.8748, -0.0303,\n",
       "          1.1727, -0.7334,  1.1229,  0.3594,  0.5934,  0.0521, -1.1584, -0.1100,\n",
       "          0.3306,  0.2211,  1.0139,  0.3954,  1.2912,  0.3069, -1.2817, -0.5514,\n",
       "          0.6697,  0.8521, -0.1799, -0.8874, -1.2490,  0.4674,  0.5279, -0.8509,\n",
       "          0.3660, -0.2673, -1.3487, -1.1020,  0.1054,  0.0985,  0.5522,  0.1070,\n",
       "          0.7868,  0.5979,  0.9193, -0.4090,  0.3973,  0.5856,  0.7012, -0.8832,\n",
       "          0.2453,  0.2926,  1.4339,  0.7552, -0.4789, -0.3740, -0.3050, -1.9247,\n",
       "          0.7124,  0.9347,  0.4657,  0.4701,  1.2139,  0.1898, -0.8825, -0.8376]],\n",
       "       dtype=torch.float64, grad_fn=<CatBackward0>)"
      ]
     },
     "execution_count": 196,
     "metadata": {},
     "output_type": "execute_result"
    }
   ],
   "source": [
    "import torch\n",
    "import torch.nn.functional as F\n",
    "from torch import nn\n",
    "\n",
    "class ProjectionLayer(nn.Module):\n",
    "    def __init__(self, feats, hidden_dims):\n",
    "        input_dims = []\n",
    "        for feat_type in feats:\n",
    "            super(ProjectionLayer, self).__init__()\n",
    "            input_dims.append(len(feat_type[1][0]))\n",
    "        self.linears = nn.ModuleList([nn.Linear(in_dim, hidden_dims, dtype=float) for in_dim in input_dims])\n",
    "    def forward(self, feats):\n",
    "        feat_homog = []\n",
    "        for feat_type, feat_proj in zip(feats, self.linears):\n",
    "            feat_homog.append(feat_proj(feat_type))\n",
    "        feat_list = torch.cat(feat_homog, dim = 0)\n",
    "        return feat_list\n",
    "\n",
    "feats = feats_list[0]\n",
    "    \n",
    "feats_tens = [torch.tensor(np.nan_to_num(np.array(feat[1], dtype=float))) for feat in feats]\n",
    "\n",
    "proj = ProjectionLayer(feats, 64)\n",
    "\n",
    "proj.forward(feats_tens)"
   ]
  },
  {
   "cell_type": "code",
   "execution_count": 194,
   "id": "3a90e337",
   "metadata": {},
   "outputs": [
    {
     "name": "stdout",
     "output_type": "stream",
     "text": [
      "[[0], [[0, 1, 0, 0, 0, 0, 0, 0, 0, 0, 0, 0, 0, 0, 0, 0, 0, 0, 0, 0, 0, 0, 0, 0, 1, 0, 1, 0, 0, 0, 0, 0, 0, 0, 0, 0, 0, 0, 0, 0, 0, 0, 0, 0, 0, 1, 1, 0, 0, 0, 0, 0, 0, 0, 0, 0, 0, 0, 1, 0, 0, 0, 0, 0, 0, 0, 0, 0, 0, 0, 0, 0, 0, 1, 0, 0, 0, 0, 1, 0, 0, 0, 0, 0, 0, 0, 0, 0, 0, 0, 0, 1]], [array([0., 0., 0.])]]\n"
     ]
    },
    {
     "ename": "TypeError",
     "evalue": "linear(): argument 'input' (position 1) must be Tensor, not list",
     "output_type": "error",
     "traceback": [
      "\u001b[1;31m---------------------------------------------------------------------------\u001b[0m",
      "\u001b[1;31mTypeError\u001b[0m                                 Traceback (most recent call last)",
      "\u001b[1;32m~\\AppData\\Local\\Temp/ipykernel_9180/1151134380.py\u001b[0m in \u001b[0;36m<module>\u001b[1;34m\u001b[0m\n\u001b[0;32m      7\u001b[0m \u001b[1;32mfor\u001b[0m \u001b[0mgraph\u001b[0m\u001b[1;33m,\u001b[0m \u001b[0mfeat\u001b[0m \u001b[1;32min\u001b[0m \u001b[0mzip\u001b[0m\u001b[1;33m(\u001b[0m\u001b[0mrelgraphs\u001b[0m\u001b[1;33m,\u001b[0m \u001b[0mfeats_list\u001b[0m\u001b[1;33m)\u001b[0m\u001b[1;33m:\u001b[0m\u001b[1;33m\u001b[0m\u001b[1;33m\u001b[0m\u001b[0m\n\u001b[0;32m      8\u001b[0m     \u001b[0mprint\u001b[0m\u001b[1;33m(\u001b[0m\u001b[0mfeat\u001b[0m\u001b[1;33m[\u001b[0m\u001b[1;36m0\u001b[0m\u001b[1;33m]\u001b[0m\u001b[1;33m)\u001b[0m\u001b[1;33m\u001b[0m\u001b[1;33m\u001b[0m\u001b[0m\n\u001b[1;32m----> 9\u001b[1;33m     \u001b[0mfeatsl\u001b[0m \u001b[1;33m=\u001b[0m \u001b[0mproj\u001b[0m\u001b[1;33m.\u001b[0m\u001b[0mforward\u001b[0m\u001b[1;33m(\u001b[0m\u001b[0mfeat\u001b[0m\u001b[1;33m)\u001b[0m\u001b[1;33m\u001b[0m\u001b[1;33m\u001b[0m\u001b[0m\n\u001b[0m\u001b[0;32m     10\u001b[0m     \u001b[0mprint\u001b[0m\u001b[1;33m(\u001b[0m\u001b[0mfeatsl\u001b[0m\u001b[1;33m)\u001b[0m\u001b[1;33m\u001b[0m\u001b[1;33m\u001b[0m\u001b[0m\n\u001b[0;32m     11\u001b[0m     \u001b[0mgraph\u001b[0m\u001b[1;33m.\u001b[0m\u001b[0mx\u001b[0m \u001b[1;33m=\u001b[0m \u001b[0mfeatsl\u001b[0m\u001b[1;33m\u001b[0m\u001b[1;33m\u001b[0m\u001b[0m\n",
      "\u001b[1;32m~\\AppData\\Local\\Temp/ipykernel_9180/861562539.py\u001b[0m in \u001b[0;36mforward\u001b[1;34m(self, feats)\u001b[0m\n\u001b[0;32m     13\u001b[0m         \u001b[0mfeat_homog\u001b[0m \u001b[1;33m=\u001b[0m \u001b[1;33m[\u001b[0m\u001b[1;33m]\u001b[0m\u001b[1;33m\u001b[0m\u001b[1;33m\u001b[0m\u001b[0m\n\u001b[0;32m     14\u001b[0m         \u001b[1;32mfor\u001b[0m \u001b[0mfeat_type\u001b[0m\u001b[1;33m,\u001b[0m \u001b[0mfeat_proj\u001b[0m \u001b[1;32min\u001b[0m \u001b[0mzip\u001b[0m\u001b[1;33m(\u001b[0m\u001b[0mfeats\u001b[0m\u001b[1;33m,\u001b[0m \u001b[0mself\u001b[0m\u001b[1;33m.\u001b[0m\u001b[0mlinears\u001b[0m\u001b[1;33m)\u001b[0m\u001b[1;33m:\u001b[0m\u001b[1;33m\u001b[0m\u001b[1;33m\u001b[0m\u001b[0m\n\u001b[1;32m---> 15\u001b[1;33m             \u001b[0mfeat_homog\u001b[0m\u001b[1;33m.\u001b[0m\u001b[0mappend\u001b[0m\u001b[1;33m(\u001b[0m\u001b[0mfeat_proj\u001b[0m\u001b[1;33m(\u001b[0m\u001b[0mfeat_type\u001b[0m\u001b[1;33m)\u001b[0m\u001b[1;33m)\u001b[0m\u001b[1;33m\u001b[0m\u001b[1;33m\u001b[0m\u001b[0m\n\u001b[0m\u001b[0;32m     16\u001b[0m         \u001b[0mfeat_list\u001b[0m \u001b[1;33m=\u001b[0m \u001b[0mtorch\u001b[0m\u001b[1;33m.\u001b[0m\u001b[0mcat\u001b[0m\u001b[1;33m(\u001b[0m\u001b[0mfeat_homog\u001b[0m\u001b[1;33m,\u001b[0m \u001b[0mdim\u001b[0m \u001b[1;33m=\u001b[0m \u001b[1;36m0\u001b[0m\u001b[1;33m)\u001b[0m\u001b[1;33m\u001b[0m\u001b[1;33m\u001b[0m\u001b[0m\n\u001b[0;32m     17\u001b[0m         \u001b[1;32mreturn\u001b[0m \u001b[0mfeat_list\u001b[0m\u001b[1;33m\u001b[0m\u001b[1;33m\u001b[0m\u001b[0m\n",
      "\u001b[1;32m~\\anaconda3\\lib\\site-packages\\torch\\nn\\modules\\module.py\u001b[0m in \u001b[0;36m_call_impl\u001b[1;34m(self, *input, **kwargs)\u001b[0m\n\u001b[0;32m   1128\u001b[0m         if not (self._backward_hooks or self._forward_hooks or self._forward_pre_hooks or _global_backward_hooks\n\u001b[0;32m   1129\u001b[0m                 or _global_forward_hooks or _global_forward_pre_hooks):\n\u001b[1;32m-> 1130\u001b[1;33m             \u001b[1;32mreturn\u001b[0m \u001b[0mforward_call\u001b[0m\u001b[1;33m(\u001b[0m\u001b[1;33m*\u001b[0m\u001b[0minput\u001b[0m\u001b[1;33m,\u001b[0m \u001b[1;33m**\u001b[0m\u001b[0mkwargs\u001b[0m\u001b[1;33m)\u001b[0m\u001b[1;33m\u001b[0m\u001b[1;33m\u001b[0m\u001b[0m\n\u001b[0m\u001b[0;32m   1131\u001b[0m         \u001b[1;31m# Do not call functions when jit is used\u001b[0m\u001b[1;33m\u001b[0m\u001b[1;33m\u001b[0m\u001b[0m\n\u001b[0;32m   1132\u001b[0m         \u001b[0mfull_backward_hooks\u001b[0m\u001b[1;33m,\u001b[0m \u001b[0mnon_full_backward_hooks\u001b[0m \u001b[1;33m=\u001b[0m \u001b[1;33m[\u001b[0m\u001b[1;33m]\u001b[0m\u001b[1;33m,\u001b[0m \u001b[1;33m[\u001b[0m\u001b[1;33m]\u001b[0m\u001b[1;33m\u001b[0m\u001b[1;33m\u001b[0m\u001b[0m\n",
      "\u001b[1;32m~\\anaconda3\\lib\\site-packages\\torch\\nn\\modules\\linear.py\u001b[0m in \u001b[0;36mforward\u001b[1;34m(self, input)\u001b[0m\n\u001b[0;32m    112\u001b[0m \u001b[1;33m\u001b[0m\u001b[0m\n\u001b[0;32m    113\u001b[0m     \u001b[1;32mdef\u001b[0m \u001b[0mforward\u001b[0m\u001b[1;33m(\u001b[0m\u001b[0mself\u001b[0m\u001b[1;33m,\u001b[0m \u001b[0minput\u001b[0m\u001b[1;33m:\u001b[0m \u001b[0mTensor\u001b[0m\u001b[1;33m)\u001b[0m \u001b[1;33m->\u001b[0m \u001b[0mTensor\u001b[0m\u001b[1;33m:\u001b[0m\u001b[1;33m\u001b[0m\u001b[1;33m\u001b[0m\u001b[0m\n\u001b[1;32m--> 114\u001b[1;33m         \u001b[1;32mreturn\u001b[0m \u001b[0mF\u001b[0m\u001b[1;33m.\u001b[0m\u001b[0mlinear\u001b[0m\u001b[1;33m(\u001b[0m\u001b[0minput\u001b[0m\u001b[1;33m,\u001b[0m \u001b[0mself\u001b[0m\u001b[1;33m.\u001b[0m\u001b[0mweight\u001b[0m\u001b[1;33m,\u001b[0m \u001b[0mself\u001b[0m\u001b[1;33m.\u001b[0m\u001b[0mbias\u001b[0m\u001b[1;33m)\u001b[0m\u001b[1;33m\u001b[0m\u001b[1;33m\u001b[0m\u001b[0m\n\u001b[0m\u001b[0;32m    115\u001b[0m \u001b[1;33m\u001b[0m\u001b[0m\n\u001b[0;32m    116\u001b[0m     \u001b[1;32mdef\u001b[0m \u001b[0mextra_repr\u001b[0m\u001b[1;33m(\u001b[0m\u001b[0mself\u001b[0m\u001b[1;33m)\u001b[0m \u001b[1;33m->\u001b[0m \u001b[0mstr\u001b[0m\u001b[1;33m:\u001b[0m\u001b[1;33m\u001b[0m\u001b[1;33m\u001b[0m\u001b[0m\n",
      "\u001b[1;31mTypeError\u001b[0m: linear(): argument 'input' (position 1) must be Tensor, not list"
     ]
    }
   ],
   "source": [
    "with open('relgraph_list.pkl', 'rb') as storage:\n",
    "    relgraphs, feats_list, hedges = pickle.load(storage)\n",
    "\n",
    "feat_ex = feats_list[0]\n",
    "proj = ProjectionLayer(feat_ex, 64)\n",
    "\n",
    "for graph, feat in zip(relgraphs, feats_list):\n",
    "    print(feat[0])\n",
    "    featsl = proj.forward(feat)\n",
    "    print(featsl)\n",
    "    graph.x = featsl"
   ]
  },
  {
   "cell_type": "code",
   "execution_count": null,
   "id": "0cabbe74",
   "metadata": {},
   "outputs": [],
   "source": []
  }
 ],
 "metadata": {
  "kernelspec": {
   "display_name": "Python 3 (ipykernel)",
   "language": "python",
   "name": "python3"
  },
  "language_info": {
   "codemirror_mode": {
    "name": "ipython",
    "version": 3
   },
   "file_extension": ".py",
   "mimetype": "text/x-python",
   "name": "python",
   "nbconvert_exporter": "python",
   "pygments_lexer": "ipython3",
   "version": "3.9.7"
  }
 },
 "nbformat": 4,
 "nbformat_minor": 5
}
