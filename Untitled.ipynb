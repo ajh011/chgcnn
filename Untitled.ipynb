{
 "cells": [
  {
   "cell_type": "code",
   "execution_count": 1,
   "id": "30b0f944",
   "metadata": {},
   "outputs": [],
   "source": [
    "import numpy as np\n",
    "import os\n",
    "import csv\n",
    "import json\n",
    "\n",
    "from pymatgen.io.cif import CifWriter, CifParser\n",
    "from pymatgen.core.structure import Structure\n",
    "from torch_geometric.data import Data\n",
    "import torch\n",
    "\n",
    "## struc -> tensor([[node_index,...],[hyper_edge_index,...]]) ##\n",
    "\n",
    "## subfunction for hedge_list responsible for singleton/node hedges, needs small tolerance\n",
    "## to include itself in get_neighbor_list \n",
    "\n",
    "## might need to rework to include features in each subfunction\n",
    "## atom_init from CGCNN for singletons\n",
    "\n",
    "## should be passed first in hgraph construction, since it assumes to be first \n",
    "\n",
    "def struc2singletons(struc,  hedge_list = [[],[]], tol=0.01):\n",
    "    singletons = struc.get_neighbor_list(r = tol, exclude_self=False)[0]\n",
    "    if hedge_list == [[],[]]:\n",
    "        hedge_counter = 0\n",
    "    else:\n",
    "        hedge_counter = np.max(hedge_list[1]) + 1\n",
    "    for node in singletons:\n",
    "        hedge_list[0].append(node)\n",
    "        hedge_list[1].append(hedge_counter)\n",
    "        hedge_counter += 1\n",
    "    return hedge_list\n",
    "\n",
    "\n",
    "\n",
    "\n",
    "## CIF, tensor([[node_index,...],[hyper_edge_index,...]]) -> tensor([[node_index,...],[hyper_edge_index,...]]) ##\n",
    "\n",
    "## subfunction for hedge_list responsible for pair-wise hedges\n",
    "## can be based on threshold + min_rad or some interatomic radius\n",
    "\n",
    "## might need to rework to include features in each subfunction\n",
    "## gaussian distance for pairs\n",
    "\n",
    "def struc2pairs(struc, hedge_list = [[],[]], radius: float = 3, min_rad: bool = True, tol: float = 0.1):\n",
    "    if min_rad == False:\n",
    "        nbr_lst = struc.get_neighbor_list(r = radius, exclude_self=True)\n",
    "    elif min_rad == True:\n",
    "        nbr_lst = struc.get_neighbor_list(r = 25, exclude_self=True)\n",
    "        min_rad = np.min(nbr_lst[3])\n",
    "        nbr_lst = struc.get_neighbor_list(r = min_rad+tol, exclude_self=True)\n",
    "\n",
    "    pair_center_idx = nbr_lst[0]\n",
    "    pair_neighbor_idx = nbr_lst[1]\n",
    "    if hedge_list == []:\n",
    "        hedge_counter = 0\n",
    "    else:\n",
    "        hedge_counter = np.max(hedge_list[1]) + 1\n",
    "\n",
    "    ## currently double counts pair-wise edges\n",
    "    for pair_1,pair_2 in zip(pair_center_idx, pair_neighbor_idx):\n",
    "        hedge_list[0].append(pair_1)\n",
    "        hedge_list[0].append(pair_2)\n",
    "\n",
    "        hedge_list[1].append(hedge_counter)\n",
    "        hedge_list[1].append(hedge_counter)\n",
    "        hedge_counter += 1\n",
    "\n",
    "    return hedge_list\n",
    "\n",
    "\n",
    "\n",
    "## CIF, tensor([[node_index,...],[hyper_edge_index,...]]) -> tensor([[node_index,...],[hyper_edge_index,...]]) ##\n",
    "\n",
    "## subfunction for hedge_list responsible for motif-wise hedges\n",
    "## currently based only on distance (min+thresh or set range)\n",
    "\n",
    "## might need to rework to include features in each subfunction\n",
    "## motif order parameters\n",
    "\n",
    "def struc2motifs(struc, hedge_list = [[],[]], radius: float = 3, min_rad: bool = True, tol: float = 0.1):\n",
    "    if min_rad == False:\n",
    "        nbr_lst = struc.get_neighbor_list(r = radius, exclude_self=True)\n",
    "    elif min_rad == True:\n",
    "        nbr_lst = struc.get_neighbor_list(r = 25, exclude_self=True)\n",
    "        min_rad = np.min(nbr_lst[3])\n",
    "        nbr_lst = struc.get_neighbor_list(r = min_rad+tol, exclude_self=True)\n",
    "\n",
    "    pair_center_idx = nbr_lst[0]\n",
    "    pair_neighbor_idx = nbr_lst[1]\n",
    "    if hedge_list == [[],[]]:\n",
    "        hedge_counter = 0\n",
    "    else:\n",
    "        hedge_counter = np.max(hedge_list[1]) + 1\n",
    "\n",
    "    last_center = pair_center_idx[0]\n",
    "\n",
    "    for pair_1,pair_2 in zip(pair_center_idx, pair_neighbor_idx):\n",
    "        new_center = pair_1\n",
    "        if last_center != new_center:\n",
    "            hedge_list[0].append(last_pair_1)\n",
    "            hedge_list[1].append(hedge_counter)\n",
    "            last_center = pair_1\n",
    "            hedge_counter += 1\n",
    "            \n",
    "        hedge_list[0].append(pair_2)\n",
    "        hedge_list[1].append(hedge_counter)\n",
    "\n",
    "        last_pair_1 = pair_1\n",
    "\n",
    "    return hedge_list\n",
    "\n",
    "\n",
    "## CIF -> tensor([[node_index,...],[hyper_edge_index,...]]) ##\n",
    "\n",
    "# takes cif file and returns array (2 x num_nodes_in_hedges) of hedge index\n",
    "# (as specified in the HypergraphConv doc of PyTorch Geometric)\n",
    "# found by collecting neighbors within spec radius for each node in one hedge\n",
    "\n",
    "\n",
    "def cif2hedges(cif_file, radius: float = 3, min_rad: bool = True, tol: float = 0.1):\n",
    "    struc = CifParser(cif_file).get_structures()[0]\n",
    "    hedge_list = struc2singletons(struc)\n",
    "    hedge_list = struc2pairs(struc, hedge_list, radius, min_rad, tol)\n",
    "    hedge_list = struc2motifs(struc, hedge_list, radius, min_rad, tol)\n",
    "    return hedge_list"
   ]
  },
  {
   "cell_type": "code",
   "execution_count": 2,
   "id": "3927f51b",
   "metadata": {},
   "outputs": [],
   "source": [
    "struc = CifParser('test_cif.cif').get_structures()[0]"
   ]
  },
  {
   "cell_type": "code",
   "execution_count": 3,
   "id": "20249652",
   "metadata": {
    "scrolled": true
   },
   "outputs": [
    {
     "name": "stdout",
     "output_type": "stream",
     "text": [
      "[[0, 1, 2, 3, 4, 5, 6, 7, 8, 9, 10, 11, 0, 6, 0, 11, 0, 9, 0, 7, 0, 10, 0, 5, 1, 4, 1, 11, 1, 6, 1, 10, 1, 7, 1, 8, 2, 5, 2, 8, 2, 7, 2, 11, 2, 9, 2, 4, 3, 10, 3, 8, 3, 5, 3, 9, 3, 4, 3, 6, 4, 8, 4, 2, 4, 3, 4, 1, 5, 0, 5, 3, 5, 9, 5, 2, 6, 3, 6, 10, 6, 1, 6, 0, 7, 11, 7, 0, 7, 1, 7, 2, 8, 1, 8, 4, 8, 3, 8, 2, 9, 5, 9, 2, 9, 3, 9, 0, 10, 6, 10, 0, 10, 1, 10, 3, 11, 2, 11, 1, 11, 0, 11, 7, 6, 11, 9, 7, 10, 5, 0, 4, 11, 6, 10, 7, 8, 1, 5, 8, 7, 11, 9, 4, 2, 10, 8, 5, 9, 4, 6, 3, 8, 2, 3, 1, 4, 0, 3, 9, 2, 5, 3, 10, 1, 0, 6, 11, 0, 1, 2, 7, 1, 4, 3, 2, 8, 5, 2, 3, 0, 9, 6, 0, 1, 3, 10, 2, 1, 0, 7], [0, 1, 2, 3, 4, 5, 6, 7, 8, 9, 10, 11, 12, 12, 13, 13, 14, 14, 15, 15, 16, 16, 17, 17, 18, 18, 19, 19, 20, 20, 21, 21, 22, 22, 23, 23, 24, 24, 25, 25, 26, 26, 27, 27, 28, 28, 29, 29, 30, 30, 31, 31, 32, 32, 33, 33, 34, 34, 35, 35, 36, 36, 37, 37, 38, 38, 39, 39, 40, 40, 41, 41, 42, 42, 43, 43, 44, 44, 45, 45, 46, 46, 47, 47, 48, 48, 49, 49, 50, 50, 51, 51, 52, 52, 53, 53, 54, 54, 55, 55, 56, 56, 57, 57, 58, 58, 59, 59, 60, 60, 61, 61, 62, 62, 63, 63, 64, 64, 65, 65, 66, 66, 67, 67, 68, 68, 68, 68, 68, 68, 68, 69, 69, 69, 69, 69, 69, 69, 70, 70, 70, 70, 70, 70, 70, 71, 71, 71, 71, 71, 71, 71, 72, 72, 72, 72, 72, 73, 73, 73, 73, 73, 74, 74, 74, 74, 74, 75, 75, 75, 75, 75, 76, 76, 76, 76, 76, 77, 77, 77, 77, 77, 78, 78, 78, 78, 78, 79, 79, 79, 79]]\n"
     ]
    }
   ],
   "source": [
    "hedge_list=[[],[]]\n",
    "hedge_list = struc2singletons(struc, hedge_list)\n",
    "hedge_list = struc2pairs(struc, hedge_list)\n",
    "hedge_list = struc2motifs(struc, hedge_list)\n",
    "print(hedge_list)"
   ]
  },
  {
   "cell_type": "code",
   "execution_count": 4,
   "id": "f193f508",
   "metadata": {},
   "outputs": [],
   "source": [
    "types = [ \"cn\",\n",
    "        \"sgl_bd\",\n",
    "        \"bent\",\n",
    "        \"tri_plan\",\n",
    "        \"tri_plan_max\",\n",
    "        \"reg_tri\",\n",
    "        \"sq_plan\",\n",
    "        \"sq_plan_max\",\n",
    "        \"pent_plan\",\n",
    "        \"pent_plan_max\",\n",
    "        \"sq\",\n",
    "        \"tet\",\n",
    "        \"tet_max\",\n",
    "        \"tri_pyr\",\n",
    "        \"sq_pyr\",\n",
    "        \"sq_pyr_legacy\",\n",
    "        \"tri_bipyr\",\n",
    "        \"sq_bipyr\",\n",
    "        \"oct\",\n",
    "        \"oct_legacy\",\n",
    "        \"pent_pyr\",\n",
    "        \"hex_pyr\",\n",
    "        \"pent_bipyr\",\n",
    "        \"hex_bipyr\",\n",
    "        \"T\",\n",
    "        \"cuboct\",\n",
    "        \"cuboct_max\",\n",
    "        \"see_saw_rect\",\n",
    "        \"bcc\",\n",
    "        \"q2\",\n",
    "        \"q4\",\n",
    "        \"q6\",\n",
    "        \"oct_max\",\n",
    "        \"hex_plan_max\",\n",
    "        \"sq_face_cap_trig_pris\"]"
   ]
  },
  {
   "cell_type": "code",
   "execution_count": 5,
   "id": "4931d56d",
   "metadata": {},
   "outputs": [
    {
     "name": "stdout",
     "output_type": "stream",
     "text": [
      "[4, 11, 6, 10, 7, 8, 1]\n"
     ]
    },
    {
     "name": "stderr",
     "output_type": "stream",
     "text": [
      "C:\\Users\\ajh01\\anaconda3\\lib\\site-packages\\pymatgen\\analysis\\local_env.py:2909: RuntimeWarning: invalid value encountered in true_divide\n",
      "  rijnorm.append(rij[j] / dist[j])\n"
     ]
    },
    {
     "data": {
      "text/plain": [
       "35"
      ]
     },
     "execution_count": 5,
     "metadata": {},
     "output_type": "execute_result"
    }
   ],
   "source": [
    "from pymatgen.analysis.local_env import LocalStructOrderParams\n",
    "lsop = LocalStructOrderParams(types)\n",
    "\n",
    "#Dont forget to remove initial edges before neighborhood lists\n",
    "\n",
    "hedge_list = [[],[]]\n",
    "hedge_list = struc2motifs(struc, hedge_list)\n",
    "motf_nindx = hedge_list[0][7:14]\n",
    "motf_indx  = 1\n",
    "print(motf_nindx)\n",
    "\n",
    "len(lsop.get_order_parameters(struc, motf_indx, indices_neighs = motf_nindx))"
   ]
  },
  {
   "cell_type": "code",
   "execution_count": 6,
   "id": "702499e1",
   "metadata": {},
   "outputs": [],
   "source": [
    "from pymatgen.analysis.local_env import LocalStructOrderParams\n",
    "lsop = LocalStructOrderParams(types)\n",
    "\n",
    "types = [ \"cn\",\n",
    "        \"sgl_bd\",\n",
    "        \"bent\",\n",
    "        \"tri_plan\",\n",
    "        \"tri_plan_max\",\n",
    "        \"reg_tri\",\n",
    "        \"sq_plan\",\n",
    "        \"sq_plan_max\",\n",
    "        \"pent_plan\",\n",
    "        \"pent_plan_max\",\n",
    "        \"sq\",\n",
    "        \"tet\",\n",
    "        \"tet_max\",\n",
    "        \"tri_pyr\",\n",
    "        \"sq_pyr\",\n",
    "        \"sq_pyr_legacy\",\n",
    "        \"tri_bipyr\",\n",
    "        \"sq_bipyr\",\n",
    "        \"oct\",\n",
    "        \"oct_legacy\",\n",
    "        \"pent_pyr\",\n",
    "        \"hex_pyr\",\n",
    "        \"pent_bipyr\",\n",
    "        \"hex_bipyr\",\n",
    "        \"T\",\n",
    "        \"cuboct\",\n",
    "        \"cuboct_max\",\n",
    "        \"see_saw_rect\",\n",
    "        \"bcc\",\n",
    "        \"q2\",\n",
    "        \"q4\",\n",
    "        \"q6\",\n",
    "        \"oct_max\",\n",
    "        \"hex_plan_max\",\n",
    "        \"sq_face_cap_trig_pris\"]\n",
    "\n",
    "\n",
    "## CIF, tensor([[node_index,...],[hyper_edge_index,...]]) -> tensor([[node_index,...],[hyper_edge_index,...]]) ##\n",
    "\n",
    "## subfunction for hedge_list responsible for motif-wise hedges\n",
    "## currently based only on distance (min+thresh or set range)\n",
    "\n",
    "## might need to rework to include features in each subfunction\n",
    "## motif order parameters\n",
    "\n",
    "def struc2motifs(struc, hedge_list = [[],[]], radius: float = 3, min_rad: bool = True, tol: float = 0.1):\n",
    "    if min_rad == False:\n",
    "        nbr_lst = struc.get_neighbor_list(r = radius, exclude_self=True)\n",
    "    elif min_rad == True:\n",
    "        nbr_lst = struc.get_neighbor_list(r = 25, exclude_self=True)\n",
    "        min_rad = np.min(nbr_lst[3])\n",
    "        nbr_lst = struc.get_neighbor_list(r = min_rad+tol, exclude_self=True)\n",
    "\n",
    "    pair_center_idx = nbr_lst[0]\n",
    "    pair_neighbor_idx = nbr_lst[1]\n",
    "    if hedge_list == [[],[]]:\n",
    "        hedge_counter = 0\n",
    "    else:\n",
    "        hedge_counter = np.max(hedge_list[1]) + 1\n",
    "\n",
    "    last_center = pair_center_idx[0]\n",
    "    neighborhoods = ([],[],[])\n",
    "    neighborhood  = []\n",
    "\n",
    "    for pair_1,pair_2 in zip(pair_center_idx, pair_neighbor_idx):\n",
    "        new_center = pair_1\n",
    "        if last_center != new_center:\n",
    "            neighborhoods[0].append(hedge_counter)\n",
    "            neighborhoods[1].append(last_pair_1)\n",
    "            neighborhoods[2].append(neighborhood)\n",
    "            hedge_list[0].append(last_pair_1)\n",
    "            hedge_list[1].append(hedge_counter)\n",
    "            last_center = pair_1\n",
    "            neighborhood = []\n",
    "            hedge_counter += 1\n",
    "            \n",
    "        hedge_list[0].append(pair_2)\n",
    "        hedge_list[1].append(hedge_counter)\n",
    "        neighborhood.append(pair_2)\n",
    "        \n",
    "        last_pair_1 = pair_1\n",
    "        \n",
    "    hedge_list[0].append(last_pair_1)\n",
    "    hedge_list[1].append(hedge_counter)\n",
    "    \n",
    "    neighborhoods[0].append(hedge_counter)\n",
    "    neighborhoods[1].append(last_pair_1)\n",
    "    neighborhoods[2].append(neighborhood)\n",
    "    \n",
    "    lsop = LocalStructOrderParams(types)\n",
    "    \n",
    "    features = [[],[]]\n",
    "    for hedge_idx, center_idx, neighbor_lst in zip(neighborhoods[0],neighborhoods[1],neighborhoods[2]):\n",
    "        feature = lsop.get_order_parameters(struc, center_idx, indices_neighs = neighbor_lst)\n",
    "        features[0].append(hedge_idx)\n",
    "        features[1].append(feature)\n",
    "            \n",
    "    return hedge_list, features"
   ]
  },
  {
   "cell_type": "code",
   "execution_count": 7,
   "id": "95680f0c",
   "metadata": {},
   "outputs": [
    {
     "name": "stdout",
     "output_type": "stream",
     "text": [
      "[6.0, 2.220446049250313e-16, 7.121562665051939e-05, 0.0008384951159906882, 0.028653472314188584, 1.0658041506816435e-205, 0.14243183801701953, 0.3934481096907446, 0.030746076199275815, 0.389181844384812, 6.315412975334043e-31, 0.007254860759403706, 0.1562813946707834, 0.5113057454736281, 0.5814634668618692, 0.11932998001665218, 0.49161942485188304, 0.5308165961703892, 0.20006814693155736, 0.023694994598985445, 0.5354550624747225, 0.43823066521432336, 0.5223879964881926, 0.42443864403871856, 0.43036784535257916, 0.29334660406606244, 0.46704357385544876, 0.4068229648171845, 0.01447498552276311, 0.4058885720384663, 0.5165345556934031, 0.2803649979112953, 0.5308165961703892, 0.21853026521726338, 0.3604484545887907]\n"
     ]
    }
   ],
   "source": [
    "hedge_list = [[],[]]\n",
    "hedge_list = struc2motifs(struc, hedge_list)[1][1][0]\n",
    "print(hedge_list)"
   ]
  },
  {
   "cell_type": "code",
   "execution_count": 8,
   "id": "f22d1a16",
   "metadata": {},
   "outputs": [],
   "source": [
    "## struc -> tuple(tensor([[node_pos], ... ]),tensor([node_atomic_num,...])) ##\n",
    "\n",
    "#takes cif file and returns tuple of a tensor of node positions and a tensor\n",
    "# of nodes atomic number, indexed same as cif2graphedges\n",
    "def cif2nodepos(struc):\n",
    "    site_lst = struc.sites\n",
    "    nodepos_lst = []\n",
    "    nodespec_lst = []\n",
    "    for site in site_lst:\n",
    "        nodepos_lst.append(site.coords) #Coordinate of sites\n",
    "        z_site = [element.Z for element in site.species]\n",
    "        nodespec_lst.append(z_site) #Atomic number list of site species (should always be single element list for crystal)\n",
    "    nodepos_arr = np.array(nodepos_lst, dtype=float)\n",
    "    nodespec_arr = np.squeeze(nodespec_lst)\n",
    "    return  (torch.tensor(nodepos_arr),torch.tensor(nodespec_arr))\n",
    "\n",
    "## struc -> tensor([[node_index,...],[hyper_edge_index,...]]) ##\n",
    "\n",
    "## subfunction for hedge_list responsible for singleton/node hedges, needs small tolerance\n",
    "## to include itself in get_neighbor_list \n",
    "\n",
    "## might need to rework to include features in each subfunction\n",
    "## atom_init from CGCNN for singletons\n",
    "\n",
    "## should be passed first in hgraph construction, since it assumes to be first \n",
    "\n",
    "def struc2singletons(struc,  hedge_list = [[],[]], tol=0.01, import_feat: bool = False, directory: str = \"\"):\n",
    "    singletons = struc.get_neighbor_list(r = tol, exclude_self=False)[0]\n",
    "    if hedge_list == [[],[]]:\n",
    "        hedge_counter = 0\n",
    "    else:\n",
    "        hedge_counter = np.max(hedge_list[1]) + 1\n",
    "    for node in singletons:\n",
    "        hedge_list[0].append(node)\n",
    "        hedge_list[1].append(hedge_counter)\n",
    "        hedge_counter += 1\n",
    "        \n",
    "    \n",
    "    features = [hedge_list[1],[],[]]\n",
    "    \n",
    "    site_lst = struc.sites\n",
    "    for site in site_lst:\n",
    "        features[1].append(site.coords) #Coordinate of sites\n",
    "        z_site = [element.Z for element in site.species]\n",
    "        features[2].append(z_site[0]) #Atomic num of sites\n",
    "    \n",
    "    if import_feat == True:\n",
    "        with open(f'{directory}atom_init.json') as atom_init:\n",
    "            atom_vecs = json.load(atom_init)\n",
    "            features[2] = [atom_vecs[f'{z}'] for z in features[2]]\n",
    "\n",
    "    return hedge_list, features\n"
   ]
  },
  {
   "cell_type": "code",
   "execution_count": 9,
   "id": "c5b3a420",
   "metadata": {
    "scrolled": true
   },
   "outputs": [
    {
     "name": "stdout",
     "output_type": "stream",
     "text": [
      "[[0, 1, 2, 3, 4, 5, 6, 7, 8, 9, 10, 11], [0, 1, 2, 3, 4, 5, 6, 7, 8, 9, 10, 11]]\n"
     ]
    }
   ],
   "source": [
    "hedge_list = [[],[]]\n",
    "hedge_list = struc2singletons(struc, hedge_list, import_feat= True)[0]\n",
    "print(hedge_list)"
   ]
  },
  {
   "cell_type": "code",
   "execution_count": 10,
   "id": "1b270233",
   "metadata": {},
   "outputs": [],
   "source": [
    "## struc, tensor([[node_index,...],[hyper_edge_index,...]]) -> tensor([[node_index,...],[hyper_edge_index,...]]) ##\n",
    "\n",
    "## subfunction for hedge_list responsible for pair-wise hedges\n",
    "## can be based on threshold + min_rad or some interatomic radius\n",
    "\n",
    "## might need to rework to include features in each subfunction\n",
    "## gaussian distance for pairs\n",
    "\n",
    "def struc2pairs(struc, hedge_list = [[],[]], radius: float = 3, min_rad: bool = True, tol: float = 0.1, gauss_dim: int = 1):\n",
    "    if min_rad == False:\n",
    "        nbr_lst = struc.get_neighbor_list(r = radius, exclude_self=True)\n",
    "    elif min_rad == True:\n",
    "        nbr_lst = struc.get_neighbor_list(r = 25, exclude_self=True)\n",
    "        min_rad = np.min(nbr_lst[3])\n",
    "        nbr_lst = struc.get_neighbor_list(r = min_rad+tol, exclude_self=True)\n",
    "\n",
    "    pair_center_idx = nbr_lst[0]\n",
    "    pair_neighbor_idx = nbr_lst[1]\n",
    "    distances = nbr_lst[3]\n",
    "    \n",
    "    if hedge_list == [[],[]]:\n",
    "        hedge_counter = 0\n",
    "    else:\n",
    "        hedge_counter = np.max(hedge_list[1]) + 1\n",
    "\n",
    "    features = [[],[]]\n",
    "    ## currently double counts pair-wise edges\n",
    "    for pair_1,pair_2,dist in zip(pair_center_idx, pair_neighbor_idx,distances):\n",
    "        hedge_list[0].append(pair_1)\n",
    "        hedge_list[0].append(pair_2)\n",
    "\n",
    "        hedge_list[1].append(hedge_counter)\n",
    "        hedge_list[1].append(hedge_counter)\n",
    "        \n",
    "        features[0].append(hedge_counter)\n",
    "        features[1].append(dist)\n",
    "        \n",
    "        hedge_counter += 1\n",
    "    if gauss_dim != 1:\n",
    "        ge = gaussian_expansion(dmin = 0 ,dmax = radius + 5*tol, steps = gauss_dim)\n",
    "        features[1]=[ge.expand(dist) for dist in features[1]]\n",
    "\n",
    "    \n",
    "    return hedge_list, features\n",
    "\n",
    "\n",
    "## Gaussian distance expansion function for pair hedge features\n",
    "\n",
    "import math\n",
    "\n",
    "class gaussian_expansion(object):\n",
    "    def __init__(self, dmin, dmax, steps):\n",
    "        assert dmin<dmax\n",
    "        self.dmin = dmin\n",
    "        self.dmax = dmax\n",
    "        self.steps = steps\n",
    "        \n",
    "    def expand(self, distance, sig=None):\n",
    "        drange = self.dmax-self.dmin\n",
    "        step_size = drange/self.steps\n",
    "        if sig == None:\n",
    "            sig = step_size/2\n",
    "        ds = [self.dmin + i*step_size for i in range(self.steps)]\n",
    "        expansion = [math.exp(-(distance-center)**2/(2*sig**2)) for center in ds]\n",
    "        return expansion\n"
   ]
  },
  {
   "cell_type": "code",
   "execution_count": 11,
   "id": "4f151850",
   "metadata": {},
   "outputs": [
    {
     "name": "stdout",
     "output_type": "stream",
     "text": [
      "[4.1871975449302247e-10, 2.8937889790041914e-05, 0.03662961367938433, 0.8492193684981157, 0.36060314951808503]\n"
     ]
    }
   ],
   "source": [
    "hedge_list = [[],[]]\n",
    "hedge_list = struc2pairs(struc, hedge_list, gauss_dim=5)[1][1][0]\n",
    "print(hedge_list)"
   ]
  },
  {
   "cell_type": "code",
   "execution_count": 12,
   "id": "a296b0e0",
   "metadata": {},
   "outputs": [
    {
     "data": {
      "text/plain": [
       "[1.522997974471263e-08,\n",
       " 0.00033546262790251185,\n",
       " 0.1353352832366127,\n",
       " 1.0,\n",
       " 0.1353352832366127,\n",
       " 0.00033546262790251185,\n",
       " 1.522997974471263e-08,\n",
       " 1.2664165549094176e-14]"
      ]
     },
     "execution_count": 12,
     "metadata": {},
     "output_type": "execute_result"
    }
   ],
   "source": [
    "ge = gaussian_expansion(2,10,8)\n",
    "ge.expand(5)"
   ]
  },
  {
   "cell_type": "code",
   "execution_count": 13,
   "id": "203414d6",
   "metadata": {},
   "outputs": [],
   "source": [
    "def hedge_packer(hedge_list):\n",
    "    new_hedges = [[],[]]\n",
    "    hedge_nodes = []\n",
    "    old_hedge = hedge_list[1][0]\n",
    "    for idx,(node,hedge) in enumerate(zip(hedge_list[0],hedge_list[1])):\n",
    "        new_hedge = hedge_list[1][idx]\n",
    "        if new_hedge != old_hedge:\n",
    "            new_hedges[0].append(old_hedge)\n",
    "            old_hedge = hedge_list[1][idx]\n",
    "            new_hedges[1].append(hedge_nodes)\n",
    "            hedge_nodes = []\n",
    "        hedge_nodes.append(node)\n",
    "    new_hedges[0].append(new_hedge)\n",
    "    new_hedges[1].append(hedge_nodes)\n",
    "    return new_hedges\n",
    "\n"
   ]
  },
  {
   "cell_type": "code",
   "execution_count": 22,
   "id": "8e510da4",
   "metadata": {},
   "outputs": [],
   "source": [
    "def relatives(hedge_pack):\n",
    "    relative_list = [[],[]]\n",
    "    for idx1, hedge in enumerate(hedge_pack[0]):\n",
    "        #print(idx1)\n",
    "        relative_list[0].append(hedge)\n",
    "        relatives = []\n",
    "        for idx2,nodes_contained in enumerate(hedge_pack[1]):\n",
    "            #print(nodes_contained)\n",
    "            if  all(item in nodes_contained for item in hedge_pack[1][idx1]) or all(item in hedge_pack[1][idx1] for item in nodes_contained):\n",
    "                relatives.append(hedge_pack[0][idx2])\n",
    "        relatives.remove(hedge)\n",
    "        relative_list[1].append(relatives)\n",
    "    return relative_list\n",
    "    "
   ]
  },
  {
   "cell_type": "code",
   "execution_count": 16,
   "id": "39f9d729",
   "metadata": {
    "scrolled": true
   },
   "outputs": [
    {
     "name": "stdout",
     "output_type": "stream",
     "text": [
      "[[0, 1, 2, 3, 4, 5, 6, 7, 8, 9, 10, 11, 0, 6, 0, 11, 0, 9, 0, 7, 0, 10, 0, 5, 1, 4, 1, 11, 1, 6, 1, 10, 1, 7, 1, 8, 2, 5, 2, 8, 2, 7, 2, 11, 2, 9, 2, 4, 3, 10, 3, 8, 3, 5, 3, 9, 3, 4, 3, 6, 4, 8, 4, 2, 4, 3, 4, 1, 5, 0, 5, 3, 5, 9, 5, 2, 6, 3, 6, 10, 6, 1, 6, 0, 7, 11, 7, 0, 7, 1, 7, 2, 8, 1, 8, 4, 8, 3, 8, 2, 9, 5, 9, 2, 9, 3, 9, 0, 10, 6, 10, 0, 10, 1, 10, 3, 11, 2, 11, 1, 11, 0, 11, 7], [0, 1, 2, 3, 4, 5, 6, 7, 8, 9, 10, 11, 12, 12, 13, 13, 14, 14, 15, 15, 16, 16, 17, 17, 18, 18, 19, 19, 20, 20, 21, 21, 22, 22, 23, 23, 24, 24, 25, 25, 26, 26, 27, 27, 28, 28, 29, 29, 30, 30, 31, 31, 32, 32, 33, 33, 34, 34, 35, 35, 36, 36, 37, 37, 38, 38, 39, 39, 40, 40, 41, 41, 42, 42, 43, 43, 44, 44, 45, 45, 46, 46, 47, 47, 48, 48, 49, 49, 50, 50, 51, 51, 52, 52, 53, 53, 54, 54, 55, 55, 56, 56, 57, 57, 58, 58, 59, 59, 60, 60, 61, 61, 62, 62, 63, 63, 64, 64, 65, 65, 66, 66, 67, 67]]\n",
      "[[0, 1, 2, 3, 4, 5, 6, 7, 8, 9, 10, 11, 12, 13, 14, 15, 16, 17, 18, 19, 20, 21, 22, 23, 24, 25, 26, 27, 28, 29, 30, 31, 32, 33, 34, 35, 36, 37, 38, 39, 40, 41, 42, 43, 44, 45, 46, 47, 48, 49, 50, 51, 52, 53, 54, 55, 56, 57, 58, 59, 60, 61, 62, 63, 64, 65, 66, 67], [[0], [1], [2], [3], [4], [5], [6], [7], [8], [9], [10], [11], [0, 6], [0, 11], [0, 9], [0, 7], [0, 10], [0, 5], [1, 4], [1, 11], [1, 6], [1, 10], [1, 7], [1, 8], [2, 5], [2, 8], [2, 7], [2, 11], [2, 9], [2, 4], [3, 10], [3, 8], [3, 5], [3, 9], [3, 4], [3, 6], [4, 8], [4, 2], [4, 3], [4, 1], [5, 0], [5, 3], [5, 9], [5, 2], [6, 3], [6, 10], [6, 1], [6, 0], [7, 11], [7, 0], [7, 1], [7, 2], [8, 1], [8, 4], [8, 3], [8, 2], [9, 5], [9, 2], [9, 3], [9, 0], [10, 6], [10, 0], [10, 1], [10, 3], [11, 2], [11, 1], [11, 0], [11, 7]]]\n"
     ]
    }
   ],
   "source": [
    "hedge_list = [[],[]]\n",
    "hedge_list = struc2singletons(struc, hedge_list)[0]\n",
    "hedge_list = struc2pairs(struc, hedge_list, gauss_dim=1)[0]\n",
    "print(hedge_list)\n",
    "print(hedge_packer(hedge_list))"
   ]
  },
  {
   "cell_type": "code",
   "execution_count": 18,
   "id": "2bfa4ec9",
   "metadata": {
    "scrolled": true
   },
   "outputs": [],
   "source": [
    "# generates edge pairs for relatives graph from relatives function output\n",
    "\n",
    "def relatives2graphedges(relative_list):\n",
    "    rel_ge = [[],[]]\n",
    "    for idx,pair_center in enumerate(relative_list[0]):\n",
    "        for neighbor in relative_list[1][idx]:\n",
    "            rel_ge[0].append(pair_center)\n",
    "            rel_ge[1].append(neighbor)\n",
    "    return rel_ge"
   ]
  },
  {
   "cell_type": "code",
   "execution_count": 23,
   "id": "d43b8aae",
   "metadata": {},
   "outputs": [
    {
     "name": "stdout",
     "output_type": "stream",
     "text": [
      "[[0, 1, 2, 3, 4, 5, 6, 7, 8, 9, 10, 11, 12, 13, 14, 15, 16, 17, 18, 19, 20, 21, 22, 23, 24, 25, 26, 27, 28, 29, 30, 31, 32, 33, 34, 35, 36, 37, 38, 39, 40, 41, 42, 43, 44, 45, 46, 47, 48, 49, 50, 51, 52, 53, 54, 55, 56, 57, 58, 59, 60, 61, 62, 63, 64, 65, 66, 67], [[12, 13, 14, 15, 16, 17, 40, 47, 49, 59, 61, 66], [18, 19, 20, 21, 22, 23, 39, 46, 50, 52, 62, 65], [24, 25, 26, 27, 28, 29, 37, 43, 51, 55, 57, 64], [30, 31, 32, 33, 34, 35, 38, 41, 44, 54, 58, 63], [18, 29, 34, 36, 37, 38, 39, 53], [17, 24, 32, 40, 41, 42, 43, 56], [12, 20, 35, 44, 45, 46, 47, 60], [15, 22, 26, 48, 49, 50, 51, 67], [23, 25, 31, 36, 52, 53, 54, 55], [14, 28, 33, 42, 56, 57, 58, 59], [16, 21, 30, 45, 60, 61, 62, 63], [13, 19, 27, 48, 64, 65, 66, 67], [0, 6, 47], [0, 11, 66], [0, 9, 59], [0, 7, 49], [0, 10, 61], [0, 5, 40], [1, 4, 39], [1, 11, 65], [1, 6, 46], [1, 10, 62], [1, 7, 50], [1, 8, 52], [2, 5, 43], [2, 8, 55], [2, 7, 51], [2, 11, 64], [2, 9, 57], [2, 4, 37], [3, 10, 63], [3, 8, 54], [3, 5, 41], [3, 9, 58], [3, 4, 38], [3, 6, 44], [4, 8, 53], [2, 4, 29], [3, 4, 34], [1, 4, 18], [0, 5, 17], [3, 5, 32], [5, 9, 56], [2, 5, 24], [3, 6, 35], [6, 10, 60], [1, 6, 20], [0, 6, 12], [7, 11, 67], [0, 7, 15], [1, 7, 22], [2, 7, 26], [1, 8, 23], [4, 8, 36], [3, 8, 31], [2, 8, 25], [5, 9, 42], [2, 9, 28], [3, 9, 33], [0, 9, 14], [6, 10, 45], [0, 10, 16], [1, 10, 21], [3, 10, 30], [2, 11, 27], [1, 11, 19], [0, 11, 13], [7, 11, 48]]]\n",
      "[[0, 0, 0, 0, 0, 0, 0, 0, 0, 0, 0, 0, 1, 1, 1, 1, 1, 1, 1, 1, 1, 1, 1, 1, 2, 2, 2, 2, 2, 2, 2, 2, 2, 2, 2, 2, 3, 3, 3, 3, 3, 3, 3, 3, 3, 3, 3, 3, 4, 4, 4, 4, 4, 4, 4, 4, 5, 5, 5, 5, 5, 5, 5, 5, 6, 6, 6, 6, 6, 6, 6, 6, 7, 7, 7, 7, 7, 7, 7, 7, 8, 8, 8, 8, 8, 8, 8, 8, 9, 9, 9, 9, 9, 9, 9, 9, 10, 10, 10, 10, 10, 10, 10, 10, 11, 11, 11, 11, 11, 11, 11, 11, 12, 12, 12, 13, 13, 13, 14, 14, 14, 15, 15, 15, 16, 16, 16, 17, 17, 17, 18, 18, 18, 19, 19, 19, 20, 20, 20, 21, 21, 21, 22, 22, 22, 23, 23, 23, 24, 24, 24, 25, 25, 25, 26, 26, 26, 27, 27, 27, 28, 28, 28, 29, 29, 29, 30, 30, 30, 31, 31, 31, 32, 32, 32, 33, 33, 33, 34, 34, 34, 35, 35, 35, 36, 36, 36, 37, 37, 37, 38, 38, 38, 39, 39, 39, 40, 40, 40, 41, 41, 41, 42, 42, 42, 43, 43, 43, 44, 44, 44, 45, 45, 45, 46, 46, 46, 47, 47, 47, 48, 48, 48, 49, 49, 49, 50, 50, 50, 51, 51, 51, 52, 52, 52, 53, 53, 53, 54, 54, 54, 55, 55, 55, 56, 56, 56, 57, 57, 57, 58, 58, 58, 59, 59, 59, 60, 60, 60, 61, 61, 61, 62, 62, 62, 63, 63, 63, 64, 64, 64, 65, 65, 65, 66, 66, 66, 67, 67, 67], [12, 13, 14, 15, 16, 17, 40, 47, 49, 59, 61, 66, 18, 19, 20, 21, 22, 23, 39, 46, 50, 52, 62, 65, 24, 25, 26, 27, 28, 29, 37, 43, 51, 55, 57, 64, 30, 31, 32, 33, 34, 35, 38, 41, 44, 54, 58, 63, 18, 29, 34, 36, 37, 38, 39, 53, 17, 24, 32, 40, 41, 42, 43, 56, 12, 20, 35, 44, 45, 46, 47, 60, 15, 22, 26, 48, 49, 50, 51, 67, 23, 25, 31, 36, 52, 53, 54, 55, 14, 28, 33, 42, 56, 57, 58, 59, 16, 21, 30, 45, 60, 61, 62, 63, 13, 19, 27, 48, 64, 65, 66, 67, 0, 6, 47, 0, 11, 66, 0, 9, 59, 0, 7, 49, 0, 10, 61, 0, 5, 40, 1, 4, 39, 1, 11, 65, 1, 6, 46, 1, 10, 62, 1, 7, 50, 1, 8, 52, 2, 5, 43, 2, 8, 55, 2, 7, 51, 2, 11, 64, 2, 9, 57, 2, 4, 37, 3, 10, 63, 3, 8, 54, 3, 5, 41, 3, 9, 58, 3, 4, 38, 3, 6, 44, 4, 8, 53, 2, 4, 29, 3, 4, 34, 1, 4, 18, 0, 5, 17, 3, 5, 32, 5, 9, 56, 2, 5, 24, 3, 6, 35, 6, 10, 60, 1, 6, 20, 0, 6, 12, 7, 11, 67, 0, 7, 15, 1, 7, 22, 2, 7, 26, 1, 8, 23, 4, 8, 36, 3, 8, 31, 2, 8, 25, 5, 9, 42, 2, 9, 28, 3, 9, 33, 0, 9, 14, 6, 10, 45, 0, 10, 16, 1, 10, 21, 3, 10, 30, 2, 11, 27, 1, 11, 19, 0, 11, 13, 7, 11, 48]]\n"
     ]
    }
   ],
   "source": [
    "\n",
    "relative = relatives(hedge_packer(hedge_list))\n",
    "print(relative)\n",
    "print(relatives2graphedges(relative))"
   ]
  }
 ],
 "metadata": {
  "kernelspec": {
   "display_name": "Python 3 (ipykernel)",
   "language": "python",
   "name": "python3"
  },
  "language_info": {
   "codemirror_mode": {
    "name": "ipython",
    "version": 3
   },
   "file_extension": ".py",
   "mimetype": "text/x-python",
   "name": "python",
   "nbconvert_exporter": "python",
   "pygments_lexer": "ipython3",
   "version": "3.9.7"
  }
 },
 "nbformat": 4,
 "nbformat_minor": 5
}
